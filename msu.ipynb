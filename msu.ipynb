{
 "cells": [
  {
   "cell_type": "markdown",
   "metadata": {
    "deletable": true,
    "editable": true,
    "slideshow": {
     "slide_type": "slide"
    }
   },
   "source": [
    "# Классификация текстов\n",
    "\n",
    "### 20.03.2017\n",
    "\n",
    "#### Мельник Богдан\n",
    "#### [teh.ld86@gmail.com](mailto:teh.ld86@gmail.com)"
   ]
  },
  {
   "cell_type": "markdown",
   "metadata": {
    "deletable": true,
    "editable": true,
    "slideshow": {
     "slide_type": "slide"
    }
   },
   "source": [
    "## Задачи классификации для текстов\n",
    "\n",
    "* Анализ тональности текста\n",
    "\n",
    "| Положительный | Отрицательный |\n",
    "|:---:|:---:|\n",
    "| <img src='files/images/kinopoisk_good.png' width='400'/> | <img src='files/images/kinopoisk_bad.png' width='400'/> |\n"
   ]
  },
  {
   "cell_type": "markdown",
   "metadata": {
    "deletable": true,
    "editable": true,
    "slideshow": {
     "slide_type": "subslide"
    }
   },
   "source": [
    "## Задачи классификации для текстов\n",
    "\n",
    "* Анализ тональности текста\n",
    "* Фильтрация спама\n",
    "\n",
    "<img src='files/images/spam.jpg' width='400'/>"
   ]
  },
  {
   "cell_type": "markdown",
   "metadata": {
    "deletable": true,
    "editable": true,
    "slideshow": {
     "slide_type": "subslide"
    }
   },
   "source": [
    "## Задачи классификации для текстов\n",
    "\n",
    "* Анализ тональности текста\n",
    "* Фильтрация спама\n",
    "* Определение языка документа\n",
    "\n",
    "<img src='files/images/languages.jpg' width='400'/>"
   ]
  },
  {
   "cell_type": "markdown",
   "metadata": {
    "deletable": true,
    "editable": true,
    "slideshow": {
     "slide_type": "subslide"
    }
   },
   "source": [
    "## Задачи классификации для текстов\n",
    "\n",
    "* Анализ тональности текста\n",
    "* Фильтрация спама\n",
    "* Определение языка документа\n",
    "* Проставление тегов документам \n",
    "\n",
    "<img src='files/images/so.png' width='400'/>"
   ]
  },
  {
   "cell_type": "code",
   "execution_count": 1,
   "metadata": {
    "collapsed": false,
    "deletable": true,
    "editable": true,
    "slideshow": {
     "slide_type": "skip"
    }
   },
   "outputs": [
    {
     "name": "stdout",
     "output_type": "stream",
     "text": [
      "Populating the interactive namespace from numpy and matplotlib\n"
     ]
    }
   ],
   "source": [
    "%pylab inline"
   ]
  },
  {
   "cell_type": "code",
   "execution_count": 2,
   "metadata": {
    "collapsed": true,
    "deletable": true,
    "editable": true,
    "slideshow": {
     "slide_type": "skip"
    }
   },
   "outputs": [],
   "source": [
    "warnings.filterwarnings('ignore')"
   ]
  },
  {
   "cell_type": "code",
   "execution_count": 3,
   "metadata": {
    "collapsed": true,
    "deletable": true,
    "editable": true,
    "slideshow": {
     "slide_type": "skip"
    }
   },
   "outputs": [],
   "source": [
    "import matplotlib.pyplot as plt\n",
    "plt.rcParams[\"figure.figsize\"] = (20, 5)"
   ]
  },
  {
   "cell_type": "code",
   "execution_count": 40,
   "metadata": {
    "collapsed": false,
    "deletable": true,
    "editable": true,
    "slideshow": {
     "slide_type": "skip"
    }
   },
   "outputs": [],
   "source": [
    "import pandas as pd\n",
    "\n",
    "from IPython.display import Image, display\n",
    "from sklearn.feature_extraction.text import CountVectorizer, TfidfVectorizer, HashingVectorizer\n",
    "from sklearn.model_selection import GridSearchCV, cross_val_predict, cross_val_score, train_test_split, KFold\n",
    "from sklearn.linear_model import LogisticRegression\n",
    "from sklearn.metrics import roc_auc_score, roc_curve, f1_score, make_scorer\n",
    "from sklearn.preprocessing import MultiLabelBinarizer\n",
    "from sklearn.multiclass import OneVsRestClassifier\n",
    "from sklearn.feature_selection import SelectKBest\n",
    "from sklearn.decomposition import TruncatedSVD\n",
    "from sklearn.ensemble import RandomForestClassifier\n",
    "from sklearn.naive_bayes import MultinomialNB"
   ]
  },
  {
   "cell_type": "markdown",
   "metadata": {
    "deletable": true,
    "editable": true,
    "slideshow": {
     "slide_type": "slide"
    }
   },
   "source": [
    "## Работа с разреженными данными\n",
    "\n",
    "Существует много типов разреженных матриц, каждый из которых предоставляет разные гарантии на операции.\n",
    "\n",
    "* ```scipy.sparse.bsr_matrix```\n",
    "* ```scipy.sparse.coo_matrix```\n",
    "* ```scipy.sparse.csc_matrix```\n",
    "* ```scipy.sparse.csr_matrix```\n",
    "* ```scipy.sparse.dia_matrix```\n",
    "* ```scipy.sparse.dok_matrix```\n",
    "* ```scipy.sparse.lil_matrix```\n",
    "\n",
    "Подробнее про [разреженые матрицы](https://docs.scipy.org/doc/scipy/reference/sparse.html)"
   ]
  },
  {
   "cell_type": "markdown",
   "metadata": {
    "slideshow": {
     "slide_type": "subslide"
    }
   },
   "source": [
    "## Конкатенация\n",
    "\n",
    "Для разреженных матриц есть свои ```hstack``` и ```vstack```, которые находятся в ```scipy.sparse```"
   ]
  },
  {
   "cell_type": "markdown",
   "metadata": {},
   "source": [
    "### Что можно использовать?\n",
    "\n",
    "Подходят почти все модели\n",
    "* LogisticRegression\n",
    "* LinearSVC\n",
    "* MultinomialNB\n",
    "* RandomForestClassifier\n",
    "* KNeighborsClassifier\n",
    "\n",
    "Не подходят\n",
    "* GradientBoostingClassifier"
   ]
  },
  {
   "cell_type": "markdown",
   "metadata": {
    "deletable": true,
    "editable": true,
    "slideshow": {
     "slide_type": "slide"
    }
   },
   "source": [
    "## Пример задачи\n",
    "\n",
    "* 10 тысяч вопросов со StackOverflow\n",
    "* Каждый вопрос имеет либо тег __windows__, либо тег __linux__.\n",
    "\n",
    "Мы хотим  по тексту вопроса определить его тег."
   ]
  },
  {
   "cell_type": "code",
   "execution_count": 293,
   "metadata": {
    "collapsed": false,
    "deletable": true,
    "editable": true,
    "slideshow": {
     "slide_type": "-"
    }
   },
   "outputs": [
    {
     "name": "stdout",
     "output_type": "stream",
     "text": [
      "(10000, 2)\n"
     ]
    },
    {
     "data": {
      "text/html": [
       "<div>\n",
       "<table border=\"1\" class=\"dataframe\">\n",
       "  <thead>\n",
       "    <tr style=\"text-align: right;\">\n",
       "      <th></th>\n",
       "      <th>text</th>\n",
       "      <th>is_windows</th>\n",
       "    </tr>\n",
       "  </thead>\n",
       "  <tbody>\n",
       "    <tr>\n",
       "      <th>0</th>\n",
       "      <td>so i find myself porting a game that was orig...</td>\n",
       "      <td>0</td>\n",
       "    </tr>\n",
       "    <tr>\n",
       "      <th>1</th>\n",
       "      <td>i ve been using tortoisesvn in a windows envi...</td>\n",
       "      <td>1</td>\n",
       "    </tr>\n",
       "    <tr>\n",
       "      <th>2</th>\n",
       "      <td>we are using wmv videos on an internal site a...</td>\n",
       "      <td>1</td>\n",
       "    </tr>\n",
       "    <tr>\n",
       "      <th>3</th>\n",
       "      <td>on one linux server running apache and php 5 ...</td>\n",
       "      <td>0</td>\n",
       "    </tr>\n",
       "  </tbody>\n",
       "</table>\n",
       "</div>"
      ],
      "text/plain": [
       "                                                text  is_windows\n",
       "0   so i find myself porting a game that was orig...           0\n",
       "1   i ve been using tortoisesvn in a windows envi...           1\n",
       "2   we are using wmv videos on an internal site a...           1\n",
       "3   on one linux server running apache and php 5 ...           0"
      ]
     },
     "execution_count": 293,
     "metadata": {},
     "output_type": "execute_result"
    }
   ],
   "source": [
    "texts = pd.read_csv('windows_vs_linux.10k.tsv', header=None, sep='\\t')\n",
    "texts.columns = ['text', 'is_windows']\n",
    "print(texts.shape)\n",
    "texts.head(4)"
   ]
  },
  {
   "cell_type": "markdown",
   "metadata": {
    "deletable": true,
    "editable": true,
    "slideshow": {
     "slide_type": "subslide"
    }
   },
   "source": [
    "## Bag of words\n",
    "\n",
    "В качестве признаков будем использовать факт вхождения слова в документ."
   ]
  },
  {
   "cell_type": "code",
   "execution_count": 9,
   "metadata": {
    "collapsed": false,
    "deletable": true,
    "editable": true
   },
   "outputs": [
    {
     "name": "stdout",
     "output_type": "stream",
     "text": [
      "(10000, 40971)\n",
      "<class 'scipy.sparse.csr.csr_matrix'>\n"
     ]
    }
   ],
   "source": [
    "vectorizer = CountVectorizer(binary=True)\n",
    "bow = vectorizer.fit_transform(texts.text)\n",
    "print(bow.shape)\n",
    "print(type(bow))"
   ]
  },
  {
   "cell_type": "markdown",
   "metadata": {
    "deletable": true,
    "editable": true,
    "slideshow": {
     "slide_type": "subslide"
    }
   },
   "source": [
    "## Выбор модели и оценка\n",
    "\n",
    "* Будем использовать LogisticRegression\n",
    "* \"C\" подберём с помощью GridSearchCV"
   ]
  },
  {
   "cell_type": "code",
   "execution_count": 16,
   "metadata": {
    "collapsed": false,
    "deletable": true,
    "editable": true
   },
   "outputs": [],
   "source": [
    "params = {'C': np.logspace(-5, 5, 11)}\n",
    "\n",
    "clf = LogisticRegression()\n",
    "cv = GridSearchCV(clf, params, n_jobs=-1, scoring='roc_auc', cv=5)\n",
    "cv.fit(bow, texts.is_windows);"
   ]
  },
  {
   "cell_type": "markdown",
   "metadata": {
    "deletable": true,
    "editable": true,
    "slideshow": {
     "slide_type": "subslide"
    }
   },
   "source": [
    "## Выбор модели и оценка\n",
    "\n",
    "* $AUC = 0.965813$\n",
    "* Довольно простая задача для случая из двух тегов"
   ]
  },
  {
   "cell_type": "code",
   "execution_count": 18,
   "metadata": {
    "collapsed": false,
    "deletable": true,
    "editable": true
   },
   "outputs": [
    {
     "data": {
      "text/html": [
       "<div>\n",
       "<table border=\"1\" class=\"dataframe\">\n",
       "  <thead>\n",
       "    <tr style=\"text-align: right;\">\n",
       "      <th></th>\n",
       "      <th>mean_test_score</th>\n",
       "      <th>params</th>\n",
       "    </tr>\n",
       "  </thead>\n",
       "  <tbody>\n",
       "    <tr>\n",
       "      <th>4</th>\n",
       "      <td>0.965813</td>\n",
       "      <td>{u'C': 0.1}</td>\n",
       "    </tr>\n",
       "    <tr>\n",
       "      <th>5</th>\n",
       "      <td>0.962415</td>\n",
       "      <td>{u'C': 1.0}</td>\n",
       "    </tr>\n",
       "    <tr>\n",
       "      <th>3</th>\n",
       "      <td>0.961759</td>\n",
       "      <td>{u'C': 0.01}</td>\n",
       "    </tr>\n",
       "    <tr>\n",
       "      <th>6</th>\n",
       "      <td>0.955353</td>\n",
       "      <td>{u'C': 10.0}</td>\n",
       "    </tr>\n",
       "    <tr>\n",
       "      <th>7</th>\n",
       "      <td>0.948635</td>\n",
       "      <td>{u'C': 100.0}</td>\n",
       "    </tr>\n",
       "    <tr>\n",
       "      <th>2</th>\n",
       "      <td>0.945693</td>\n",
       "      <td>{u'C': 0.001}</td>\n",
       "    </tr>\n",
       "    <tr>\n",
       "      <th>8</th>\n",
       "      <td>0.945429</td>\n",
       "      <td>{u'C': 1000.0}</td>\n",
       "    </tr>\n",
       "    <tr>\n",
       "      <th>9</th>\n",
       "      <td>0.943599</td>\n",
       "      <td>{u'C': 10000.0}</td>\n",
       "    </tr>\n",
       "    <tr>\n",
       "      <th>10</th>\n",
       "      <td>0.942903</td>\n",
       "      <td>{u'C': 100000.0}</td>\n",
       "    </tr>\n",
       "    <tr>\n",
       "      <th>1</th>\n",
       "      <td>0.790566</td>\n",
       "      <td>{u'C': 0.0001}</td>\n",
       "    </tr>\n",
       "    <tr>\n",
       "      <th>0</th>\n",
       "      <td>0.632507</td>\n",
       "      <td>{u'C': 1e-05}</td>\n",
       "    </tr>\n",
       "  </tbody>\n",
       "</table>\n",
       "</div>"
      ],
      "text/plain": [
       "    mean_test_score            params\n",
       "4          0.965813       {u'C': 0.1}\n",
       "5          0.962415       {u'C': 1.0}\n",
       "3          0.961759      {u'C': 0.01}\n",
       "6          0.955353      {u'C': 10.0}\n",
       "7          0.948635     {u'C': 100.0}\n",
       "2          0.945693     {u'C': 0.001}\n",
       "8          0.945429    {u'C': 1000.0}\n",
       "9          0.943599   {u'C': 10000.0}\n",
       "10         0.942903  {u'C': 100000.0}\n",
       "1          0.790566    {u'C': 0.0001}\n",
       "0          0.632507     {u'C': 1e-05}"
      ]
     },
     "execution_count": 18,
     "metadata": {},
     "output_type": "execute_result"
    }
   ],
   "source": [
    "pd.DataFrame(cv.cv_results_)[['mean_test_score', 'params']].sort_values('mean_test_score', ascending=False)"
   ]
  },
  {
   "cell_type": "markdown",
   "metadata": {
    "deletable": true,
    "editable": true,
    "slideshow": {
     "slide_type": "subslide"
    }
   },
   "source": [
    "## Получение слов с наибольшим весом\n"
   ]
  },
  {
   "cell_type": "code",
   "execution_count": 49,
   "metadata": {
    "collapsed": true,
    "deletable": true,
    "editable": true,
    "slideshow": {
     "slide_type": "skip"
    }
   },
   "outputs": [],
   "source": [
    "def get_top_windows(clf, n):\n",
    "    indices = np.zeros(bow.shape[1])\n",
    "    for i in np.argsort(clf.coef_)[:, -n:]:\n",
    "        indices[i] = 1\n",
    "    \n",
    "    return vectorizer.inverse_transform(indices)[0][::-1]\n",
    "\n",
    "def get_top_linux(clf, n):\n",
    "    indices = np.zeros(bow.shape[1])\n",
    "    for i in np.argsort(clf.coef_)[:, :n]:\n",
    "        indices[i] = 1\n",
    "    \n",
    "    return vectorizer.inverse_transform(indices)[0][::-1]"
   ]
  },
  {
   "cell_type": "code",
   "execution_count": 60,
   "metadata": {
    "collapsed": false,
    "deletable": true,
    "editable": true
   },
   "outputs": [
    {
     "data": {
      "text/html": [
       "<div>\n",
       "<table border=\"1\" class=\"dataframe\">\n",
       "  <thead>\n",
       "    <tr style=\"text-align: right;\">\n",
       "      <th></th>\n",
       "      <th>Windows</th>\n",
       "      <th>Linux</th>\n",
       "    </tr>\n",
       "  </thead>\n",
       "  <tbody>\n",
       "    <tr>\n",
       "      <th>0</th>\n",
       "      <td>windows</td>\n",
       "      <td>ubuntu</td>\n",
       "    </tr>\n",
       "    <tr>\n",
       "      <th>1</th>\n",
       "      <td>win32</td>\n",
       "      <td>root</td>\n",
       "    </tr>\n",
       "    <tr>\n",
       "      <th>2</th>\n",
       "      <td>vista</td>\n",
       "      <td>mono</td>\n",
       "    </tr>\n",
       "    <tr>\n",
       "      <th>3</th>\n",
       "      <td>exe</td>\n",
       "      <td>linux</td>\n",
       "    </tr>\n",
       "    <tr>\n",
       "      <th>4</th>\n",
       "      <td>dll</td>\n",
       "      <td>kernel</td>\n",
       "    </tr>\n",
       "    <tr>\n",
       "      <th>5</th>\n",
       "      <td>batch</td>\n",
       "      <td>bash</td>\n",
       "    </tr>\n",
       "  </tbody>\n",
       "</table>\n",
       "</div>"
      ],
      "text/plain": [
       "   Windows   Linux\n",
       "0  windows  ubuntu\n",
       "1    win32    root\n",
       "2    vista    mono\n",
       "3      exe   linux\n",
       "4      dll  kernel\n",
       "5    batch    bash"
      ]
     },
     "execution_count": 60,
     "metadata": {},
     "output_type": "execute_result"
    }
   ],
   "source": [
    "top = pd.DataFrame([get_top_windows(cv.best_estimator_, 6),\n",
    "                    get_top_linux(cv.best_estimator_, 6)]).T\n",
    "\n",
    "top.columns = ['Windows', 'Linux']\n",
    "top"
   ]
  },
  {
   "cell_type": "markdown",
   "metadata": {
    "deletable": true,
    "editable": true,
    "slideshow": {
     "slide_type": "slide"
    }
   },
   "source": [
    "## Отбор признаков\n",
    "\n",
    "Представим, что у нас есть очень много признаков и мы хотим сократить их количество, выбрав только самые нужные.\n",
    "\n",
    "В данном случае мы взяли все возможные $N$-граммы, где $N \\in \\{1, \\dots, 4\\}$"
   ]
  },
  {
   "cell_type": "code",
   "execution_count": 310,
   "metadata": {
    "collapsed": false,
    "deletable": true,
    "editable": true
   },
   "outputs": [
    {
     "name": "stdout",
     "output_type": "stream",
     "text": [
      "(10000, 2117115)\n",
      "<class 'scipy.sparse.csr.csr_matrix'>\n"
     ]
    }
   ],
   "source": [
    "vectorizer = CountVectorizer(binary=True, ngram_range=(1, 4))\n",
    "bow = vectorizer.fit_transform(texts.text)\n",
    "print(bow.shape)\n",
    "print(type(bow))"
   ]
  },
  {
   "cell_type": "markdown",
   "metadata": {
    "slideshow": {
     "slide_type": "subslide"
    }
   },
   "source": [
    "## Выбираем признаки\n",
    "\n",
    "Мы можем отобрать $50000$ признаков с помощью ```SelectKBest``` и увидеть, что мы получили на кросс-валидации качество  лучше чем до этого.\n",
    "\n",
    "Есть ли тут проблемы?"
   ]
  },
  {
   "cell_type": "code",
   "execution_count": 311,
   "metadata": {
    "collapsed": false,
    "deletable": true,
    "editable": true,
    "slideshow": {
     "slide_type": "-"
    }
   },
   "outputs": [],
   "source": [
    "k_best = SelectKBest(k=50000)\n",
    "bow_k_best = k_best.fit_transform(bow, texts.is_windows)"
   ]
  },
  {
   "cell_type": "code",
   "execution_count": 312,
   "metadata": {
    "collapsed": false,
    "deletable": true,
    "editable": true
   },
   "outputs": [
    {
     "data": {
      "text/plain": [
       "0.97955838190531419"
      ]
     },
     "execution_count": 312,
     "metadata": {},
     "output_type": "execute_result"
    }
   ],
   "source": [
    "clf = LogisticRegression()\n",
    "np.mean(cross_val_score(clf, bow_k_best, texts.is_windows, scoring='roc_auc', cv=5))"
   ]
  },
  {
   "cell_type": "markdown",
   "metadata": {
    "slideshow": {
     "slide_type": "subslide"
    }
   },
   "source": [
    "## Проверка\n",
    "\n",
    "Когда делается отбор признаков всегда нужна проверка на отложенной выборке, иначе оценка будет сильно завышена."
   ]
  },
  {
   "cell_type": "code",
   "execution_count": 313,
   "metadata": {
    "collapsed": false,
    "deletable": true,
    "editable": true,
    "slideshow": {
     "slide_type": "-"
    }
   },
   "outputs": [
    {
     "name": "stdout",
     "output_type": "stream",
     "text": [
      "(7500, 2117115)\n",
      "(2500, 2117115)\n"
     ]
    }
   ],
   "source": [
    "x_train, x_test, y_train, y_test = train_test_split(bow, texts.is_windows)\n",
    "print(x_train.shape)\n",
    "print(x_test.shape)"
   ]
  },
  {
   "cell_type": "code",
   "execution_count": 314,
   "metadata": {
    "collapsed": true,
    "deletable": true,
    "editable": true
   },
   "outputs": [],
   "source": [
    "k_best = SelectKBest(k=50000)\n",
    "x_train_k_best = k_best.fit_transform(x_train, y_train)\n",
    "x_test_k_best = k_best.transform(x_test)"
   ]
  },
  {
   "cell_type": "code",
   "execution_count": 315,
   "metadata": {
    "collapsed": false,
    "deletable": true,
    "editable": true
   },
   "outputs": [
    {
     "data": {
      "text/plain": [
       "0.96876106147585705"
      ]
     },
     "execution_count": 315,
     "metadata": {},
     "output_type": "execute_result"
    }
   ],
   "source": [
    "clf = LogisticRegression()\n",
    "clf.fit(x_train_k_best, y_train)\n",
    "roc_auc_score(y_test, clf.predict_proba(x_test_k_best)[:, 1])"
   ]
  },
  {
   "cell_type": "markdown",
   "metadata": {
    "deletable": true,
    "editable": true,
    "slideshow": {
     "slide_type": "slide"
    }
   },
   "source": [
    "## AUC\n",
    "\n",
    "* Метрика для бинарной классификации\n",
    "* Важен порядок ответов, а не сами значения"
   ]
  },
  {
   "cell_type": "code",
   "execution_count": 66,
   "metadata": {
    "collapsed": false,
    "deletable": true,
    "editable": true,
    "slideshow": {
     "slide_type": "-"
    }
   },
   "outputs": [
    {
     "data": {
      "text/plain": [
       "array([ 0.12431717,  0.99933152,  0.98910196,  0.02073042,  0.84102736])"
      ]
     },
     "execution_count": 66,
     "metadata": {},
     "output_type": "execute_result"
    }
   ],
   "source": [
    "y_hat = cross_val_predict(cv.best_estimator_, bow, texts.is_windows, method='predict_proba')[:, 1]\n",
    "y_hat[:5]"
   ]
  },
  {
   "cell_type": "markdown",
   "metadata": {
    "deletable": true,
    "editable": true
   },
   "source": [
    "Делая любое преобразование, сохраняющее порядок, мы будет получать одинаковое значение $AUC$"
   ]
  },
  {
   "cell_type": "code",
   "execution_count": 71,
   "metadata": {
    "collapsed": false,
    "deletable": true,
    "editable": true
   },
   "outputs": [
    {
     "name": "stdout",
     "output_type": "stream",
     "text": [
      "0.963904819501\n",
      "0.963904819501\n",
      "0.963904819501\n"
     ]
    }
   ],
   "source": [
    "print(roc_auc_score(texts.is_windows, y_hat))\n",
    "print(roc_auc_score(texts.is_windows, y_hat * 2 + 1)) \n",
    "print(roc_auc_score(texts.is_windows, y_hat ** 2)) "
   ]
  },
  {
   "cell_type": "markdown",
   "metadata": {
    "deletable": true,
    "editable": true,
    "slideshow": {
     "slide_type": "subslide"
    }
   },
   "source": [
    "## AUC — Area under curve"
   ]
  },
  {
   "cell_type": "code",
   "execution_count": 80,
   "metadata": {
    "collapsed": false,
    "deletable": true,
    "editable": true
   },
   "outputs": [
    {
     "data": {
      "image/png": "[encoded data removed]",
      "text/plain": [
       "<matplotlib.figure.Figure at 0x10a6ca2d0>"
      ]
     },
     "metadata": {},
     "output_type": "display_data"
    }
   ],
   "source": [
    "fpr, tpr, _ = roc_curve(texts.is_windows, y_hat)\n",
    "plot(fpr, tpr, lw=2);\n",
    "plot([0, 1], [0, 1], linestyle='--');\n",
    "xlim([0.0, 1.0])\n",
    "ylim([0.0, 1.05])\n",
    "xlabel('False Positive Rate')\n",
    "ylabel('True Positive Rate');"
   ]
  },
  {
   "cell_type": "markdown",
   "metadata": {
    "deletable": true,
    "editable": true,
    "slideshow": {
     "slide_type": "slide"
    }
   },
   "source": [
    "## Многоклассовая классификация\n",
    "\n",
    "* Каждый вопрос имеет несколько тегов\n",
    "* По тексту нужно определить все теги для каждого вопроса"
   ]
  },
  {
   "cell_type": "code",
   "execution_count": 31,
   "metadata": {
    "collapsed": false,
    "deletable": true,
    "editable": true
   },
   "outputs": [
    {
     "name": "stdout",
     "output_type": "stream",
     "text": [
      "(10000, 2)\n"
     ]
    },
    {
     "data": {
      "text/html": [
       "<div>\n",
       "<table border=\"1\" class=\"dataframe\">\n",
       "  <thead>\n",
       "    <tr style=\"text-align: right;\">\n",
       "      <th></th>\n",
       "      <th>text</th>\n",
       "      <th>tags</th>\n",
       "    </tr>\n",
       "  </thead>\n",
       "  <tbody>\n",
       "    <tr>\n",
       "      <th>0</th>\n",
       "      <td>i want to use a track bar to change a form s ...</td>\n",
       "      <td>c# winforms type-conversion decimal opacity</td>\n",
       "    </tr>\n",
       "    <tr>\n",
       "      <th>1</th>\n",
       "      <td>i have an absolutely positioned div containin...</td>\n",
       "      <td>html css css3 internet-explorer-7</td>\n",
       "    </tr>\n",
       "    <tr>\n",
       "      <th>2</th>\n",
       "      <td>given a datetime representing a person s birt...</td>\n",
       "      <td>c# .net datetime</td>\n",
       "    </tr>\n",
       "    <tr>\n",
       "      <th>3</th>\n",
       "      <td>given a specific datetime value how do i disp...</td>\n",
       "      <td>c# datetime datediff relative-time-span</td>\n",
       "    </tr>\n",
       "  </tbody>\n",
       "</table>\n",
       "</div>"
      ],
      "text/plain": [
       "                                                text  \\\n",
       "0   i want to use a track bar to change a form s ...   \n",
       "1   i have an absolutely positioned div containin...   \n",
       "2   given a datetime representing a person s birt...   \n",
       "3   given a specific datetime value how do i disp...   \n",
       "\n",
       "                                          tags  \n",
       "0  c# winforms type-conversion decimal opacity  \n",
       "1            html css css3 internet-explorer-7  \n",
       "2                             c# .net datetime  \n",
       "3      c# datetime datediff relative-time-span  "
      ]
     },
     "execution_count": 31,
     "metadata": {},
     "output_type": "execute_result"
    }
   ],
   "source": [
    "texts = pd.read_csv('multi_tag.10k.tsv', header=None, sep='\\t')\n",
    "texts.columns = ['text', 'tags']\n",
    "print(texts.shape)\n",
    "texts.head(4)"
   ]
  },
  {
   "cell_type": "markdown",
   "metadata": {
    "deletable": true,
    "editable": true,
    "slideshow": {
     "slide_type": "subslide"
    }
   },
   "source": [
    "## Обощение бинарной классификации\n",
    "\n",
    "Некоторые методы умеют работать с несколькими метками из коробки\n",
    "\n",
    "* ```KNeighborsClassifier```\n",
    "* ```RandomForestClassifier```\n",
    "* ```SVC```\n",
    "\n",
    "Остальные можно обобщить с помощью обучения нескольких моделей\n",
    "\n",
    "* ```OneVsRestClassifier```\n",
    "* ```OneVsOneClassifier```"
   ]
  },
  {
   "cell_type": "markdown",
   "metadata": {
    "deletable": true,
    "editable": true,
    "slideshow": {
     "slide_type": "subslide"
    }
   },
   "source": [
    "## OneVsRestClassifier\n",
    "\n",
    "Обучает $K$ моделей, для каждой метки отдельно \n",
    "\n",
    "![ovr](files/images/ovr.png)"
   ]
  },
  {
   "cell_type": "markdown",
   "metadata": {
    "deletable": true,
    "editable": true,
    "slideshow": {
     "slide_type": "subslide"
    }
   },
   "source": [
    "## OneVsOneClassifier\n",
    "\n",
    "Обучает $\\frac{K (K - 1)}{2}$ моделей, для каждой пары меток\n",
    "\n",
    "![ovr](files/images/ovo.png)"
   ]
  },
  {
   "cell_type": "markdown",
   "metadata": {
    "deletable": true,
    "editable": true,
    "slideshow": {
     "slide_type": "subslide"
    }
   },
   "source": [
    "## Оценка качества\n",
    "\n",
    "* Для нескольких классов $AUC$ не подходит\n",
    "* Будем использовать обобщение $F$—меры на несколько классов\n",
    "\n",
    "\n",
    "$$\n",
    "F1 = 2\\frac{p * r}{p + r},\\ \\ \\mathrm{где}\\ \\ p = \\frac{tp}{tp+fp},\\ \\  r = \\frac{tp}{tp+fn}\n",
    "$$\n",
    "\n",
    "\n",
    "$tp$, $fp$ и $fp$ будут считаться по всем тегам одного объекта"
   ]
  },
  {
   "cell_type": "code",
   "execution_count": 109,
   "metadata": {
    "collapsed": false,
    "deletable": true,
    "editable": true
   },
   "outputs": [
    {
     "name": "stdout",
     "output_type": "stream",
     "text": [
      "0.5\n",
      "0.5\n"
     ]
    }
   ],
   "source": [
    "y, y_hat = np.array([[1, 1, 0, 0]]), np.array([[1, 0, 1, 0]])\n",
    "tp, fp, fn = 1., 1., 1.\n",
    "p, r = tp / (tp + fp), tp / (tp + fn)\n",
    "f1 = 2 * p * r / (p + r)\n",
    "\n",
    "print(f1)\n",
    "print(f1_score(y, y_hat, average='samples'))"
   ]
  },
  {
   "cell_type": "markdown",
   "metadata": {
    "deletable": true,
    "editable": true,
    "slideshow": {
     "slide_type": "slide"
    }
   },
   "source": [
    "## Bag of words\n",
    "\n",
    "Повторим всё, как для случая двух классов"
   ]
  },
  {
   "cell_type": "code",
   "execution_count": 111,
   "metadata": {
    "collapsed": false,
    "deletable": true,
    "editable": true
   },
   "outputs": [
    {
     "name": "stdout",
     "output_type": "stream",
     "text": [
      "(10000, 35247)\n",
      "<class 'scipy.sparse.csr.csr_matrix'>\n"
     ]
    }
   ],
   "source": [
    "vectorizer = CountVectorizer(binary=True)\n",
    "bow = vectorizer.fit_transform(texts.text)\n",
    "print(bow.shape)\n",
    "print(type(bow))"
   ]
  },
  {
   "cell_type": "markdown",
   "metadata": {
    "deletable": true,
    "editable": true,
    "slideshow": {
     "slide_type": "subslide"
    }
   },
   "source": [
    "## Отбор тегов\n",
    "\n",
    "* Оставим только самые популярные 20 тегов для предсказания\n",
    "* Если у вопроса после такой фильтрации не осталось тегов, то присвоим ему отдельный тег __other__"
   ]
  },
  {
   "cell_type": "code",
   "execution_count": 32,
   "metadata": {
    "collapsed": false,
    "deletable": true,
    "editable": true
   },
   "outputs": [
    {
     "data": {
      "text/plain": [
       "[(1198, 'c#'),\n",
       " (1090, '.net'),\n",
       " (696, 'java'),\n",
       " (610, 'asp.net'),\n",
       " (472, 'sql-server')]"
      ]
     },
     "execution_count": 32,
     "metadata": {},
     "output_type": "execute_result"
    }
   ],
   "source": [
    "tags = texts.tags.apply(lambda x: x.split())\n",
    "all_tags = reduce(lambda s, x: s + x, tags, [])\n",
    "values, count = np.unique(all_tags, return_counts=True)\n",
    "\n",
    "top_tags = sorted(zip(count, values), reverse=True)[:20]\n",
    "top_tags[:5]"
   ]
  },
  {
   "cell_type": "code",
   "execution_count": 33,
   "metadata": {
    "collapsed": true,
    "deletable": true,
    "editable": true,
    "slideshow": {
     "slide_type": "skip"
    }
   },
   "outputs": [],
   "source": [
    "def filter_tags(tags):\n",
    "    intersection = list(good_tags.intersection(tags))\n",
    "    if intersection:\n",
    "        return intersection\n",
    "    return ['other']\n",
    "\n",
    "good_tags = set(map(lambda x: x[1], top_tags))"
   ]
  },
  {
   "cell_type": "markdown",
   "metadata": {
    "deletable": true,
    "editable": true,
    "slideshow": {
     "slide_type": "subslide"
    }
   },
   "source": [
    "Преобразуем списки тегов в матрицу, которая будет содержать индикаторы наличия тега у вопроса."
   ]
  },
  {
   "cell_type": "code",
   "execution_count": 34,
   "metadata": {
    "collapsed": false,
    "deletable": true,
    "editable": true
   },
   "outputs": [
    {
     "name": "stdout",
     "output_type": "stream",
     "text": [
      "(10000, 21)\n",
      "<type 'numpy.ndarray'>\n"
     ]
    }
   ],
   "source": [
    "binarizer = MultiLabelBinarizer()\n",
    "y = binarizer.fit_transform(texts.tags.apply(lambda x: filter_tags(x.split())))\n",
    "print(y.shape)\n",
    "print(type(y))"
   ]
  },
  {
   "cell_type": "markdown",
   "metadata": {
    "deletable": true,
    "editable": true,
    "slideshow": {
     "slide_type": "subslide"
    }
   },
   "source": [
    "## Выбор модели и оценка\n",
    "\n",
    "* Также будет использовать ```LogisticRegression```, но уже вместе с ```OneVsRestClassifier```"
   ]
  },
  {
   "cell_type": "code",
   "execution_count": 204,
   "metadata": {
    "collapsed": false,
    "deletable": true,
    "editable": true
   },
   "outputs": [],
   "source": [
    "params = {'estimator__C': np.logspace(-5, 5, 11)}\n",
    "\n",
    "clf = OneVsRestClassifier(LogisticRegression())\n",
    "cv = GridSearchCV(clf, params, n_jobs=-1, scoring=make_scorer(f1_score, average='samples'), cv=5)\n",
    "cv.fit(bow, y);"
   ]
  },
  {
   "cell_type": "markdown",
   "metadata": {
    "deletable": true,
    "editable": true,
    "slideshow": {
     "slide_type": "subslide"
    }
   },
   "source": [
    "## Выбор модели и оценка\n",
    "\n",
    "* $F1 = 0.4047323$\n",
    "* Как видно задача стала существенно сложней\n",
    "* Попробуем улучшить качество"
   ]
  },
  {
   "cell_type": "code",
   "execution_count": 205,
   "metadata": {
    "collapsed": false,
    "deletable": true,
    "editable": true,
    "slideshow": {
     "slide_type": "-"
    }
   },
   "outputs": [
    {
     "data": {
      "text/html": [
       "<div>\n",
       "<table border=\"1\" class=\"dataframe\">\n",
       "  <thead>\n",
       "    <tr style=\"text-align: right;\">\n",
       "      <th></th>\n",
       "      <th>mean_test_score</th>\n",
       "      <th>params</th>\n",
       "    </tr>\n",
       "  </thead>\n",
       "  <tbody>\n",
       "    <tr>\n",
       "      <th>10</th>\n",
       "      <td>0.404732</td>\n",
       "      <td>{u'estimator__C': 100000.0}</td>\n",
       "    </tr>\n",
       "    <tr>\n",
       "      <th>9</th>\n",
       "      <td>0.404212</td>\n",
       "      <td>{u'estimator__C': 10000.0}</td>\n",
       "    </tr>\n",
       "    <tr>\n",
       "      <th>8</th>\n",
       "      <td>0.404140</td>\n",
       "      <td>{u'estimator__C': 1000.0}</td>\n",
       "    </tr>\n",
       "    <tr>\n",
       "      <th>7</th>\n",
       "      <td>0.403066</td>\n",
       "      <td>{u'estimator__C': 100.0}</td>\n",
       "    </tr>\n",
       "    <tr>\n",
       "      <th>6</th>\n",
       "      <td>0.402630</td>\n",
       "      <td>{u'estimator__C': 10.0}</td>\n",
       "    </tr>\n",
       "    <tr>\n",
       "      <th>5</th>\n",
       "      <td>0.390346</td>\n",
       "      <td>{u'estimator__C': 1.0}</td>\n",
       "    </tr>\n",
       "    <tr>\n",
       "      <th>4</th>\n",
       "      <td>0.319707</td>\n",
       "      <td>{u'estimator__C': 0.1}</td>\n",
       "    </tr>\n",
       "    <tr>\n",
       "      <th>3</th>\n",
       "      <td>0.092920</td>\n",
       "      <td>{u'estimator__C': 0.01}</td>\n",
       "    </tr>\n",
       "    <tr>\n",
       "      <th>2</th>\n",
       "      <td>0.000300</td>\n",
       "      <td>{u'estimator__C': 0.001}</td>\n",
       "    </tr>\n",
       "    <tr>\n",
       "      <th>0</th>\n",
       "      <td>0.000000</td>\n",
       "      <td>{u'estimator__C': 1e-05}</td>\n",
       "    </tr>\n",
       "    <tr>\n",
       "      <th>1</th>\n",
       "      <td>0.000000</td>\n",
       "      <td>{u'estimator__C': 0.0001}</td>\n",
       "    </tr>\n",
       "  </tbody>\n",
       "</table>\n",
       "</div>"
      ],
      "text/plain": [
       "    mean_test_score                       params\n",
       "10         0.404732  {u'estimator__C': 100000.0}\n",
       "9          0.404212   {u'estimator__C': 10000.0}\n",
       "8          0.404140    {u'estimator__C': 1000.0}\n",
       "7          0.403066     {u'estimator__C': 100.0}\n",
       "6          0.402630      {u'estimator__C': 10.0}\n",
       "5          0.390346       {u'estimator__C': 1.0}\n",
       "4          0.319707       {u'estimator__C': 0.1}\n",
       "3          0.092920      {u'estimator__C': 0.01}\n",
       "2          0.000300     {u'estimator__C': 0.001}\n",
       "0          0.000000     {u'estimator__C': 1e-05}\n",
       "1          0.000000    {u'estimator__C': 0.0001}"
      ]
     },
     "execution_count": 205,
     "metadata": {},
     "output_type": "execute_result"
    }
   ],
   "source": [
    "pd.DataFrame(cv.cv_results_)[['mean_test_score', 'params']].sort_values('mean_test_score', ascending=False)"
   ]
  },
  {
   "cell_type": "markdown",
   "metadata": {
    "deletable": true,
    "editable": true,
    "slideshow": {
     "slide_type": "slide"
    }
   },
   "source": [
    "## Tf-Idf\n",
    "\n",
    "* Вместо бинарного значения, для каждого слова считается его вес\n",
    "* Обычно работает лучше, чем ```CountVectorizer```"
   ]
  },
  {
   "cell_type": "code",
   "execution_count": 253,
   "metadata": {
    "collapsed": false,
    "deletable": true,
    "editable": true
   },
   "outputs": [
    {
     "name": "stdout",
     "output_type": "stream",
     "text": [
      "(10000, 35247)\n",
      "<class 'scipy.sparse.csr.csr_matrix'>\n"
     ]
    }
   ],
   "source": [
    "vectorizer = TfidfVectorizer()\n",
    "tf_idf = vectorizer.fit_transform(texts.text)\n",
    "print(tf_idf.shape)\n",
    "print(type(tf_idf))"
   ]
  },
  {
   "cell_type": "markdown",
   "metadata": {
    "deletable": true,
    "editable": true,
    "slideshow": {
     "slide_type": "subslide"
    }
   },
   "source": [
    "## Выбор модели и оценка\n",
    "\n",
    "Ищем лучшие параметры"
   ]
  },
  {
   "cell_type": "code",
   "execution_count": 254,
   "metadata": {
    "collapsed": true,
    "deletable": true,
    "editable": true,
    "slideshow": {
     "slide_type": "-"
    }
   },
   "outputs": [],
   "source": [
    "params = {'estimator__C': np.logspace(-5, 5, 11)}\n",
    "\n",
    "clf = OneVsRestClassifier(LogisticRegression())\n",
    "cv = GridSearchCV(clf, params, n_jobs=-1, scoring=make_scorer(f1_score, average='samples'), cv=5)\n",
    "cv.fit(tf_idf, y);"
   ]
  },
  {
   "cell_type": "markdown",
   "metadata": {
    "deletable": true,
    "editable": true,
    "slideshow": {
     "slide_type": "subslide"
    }
   },
   "source": [
    "## Выбор модели и оценка\n",
    "\n",
    "* $F1=0.382173$\n",
    "* Получилось хуже, чем BOW.\n",
    "* Но почему?"
   ]
  },
  {
   "cell_type": "code",
   "execution_count": 255,
   "metadata": {
    "collapsed": false,
    "deletable": true,
    "editable": true,
    "slideshow": {
     "slide_type": "-"
    }
   },
   "outputs": [
    {
     "data": {
      "text/html": [
       "<div>\n",
       "<table border=\"1\" class=\"dataframe\">\n",
       "  <thead>\n",
       "    <tr style=\"text-align: right;\">\n",
       "      <th></th>\n",
       "      <th>mean_test_score</th>\n",
       "      <th>params</th>\n",
       "    </tr>\n",
       "  </thead>\n",
       "  <tbody>\n",
       "    <tr>\n",
       "      <th>10</th>\n",
       "      <td>0.382173</td>\n",
       "      <td>{u'estimator__C': 100000.0}</td>\n",
       "    </tr>\n",
       "    <tr>\n",
       "      <th>9</th>\n",
       "      <td>0.380033</td>\n",
       "      <td>{u'estimator__C': 10000.0}</td>\n",
       "    </tr>\n",
       "    <tr>\n",
       "      <th>8</th>\n",
       "      <td>0.376427</td>\n",
       "      <td>{u'estimator__C': 1000.0}</td>\n",
       "    </tr>\n",
       "    <tr>\n",
       "      <th>7</th>\n",
       "      <td>0.364680</td>\n",
       "      <td>{u'estimator__C': 100.0}</td>\n",
       "    </tr>\n",
       "    <tr>\n",
       "      <th>6</th>\n",
       "      <td>0.334247</td>\n",
       "      <td>{u'estimator__C': 10.0}</td>\n",
       "    </tr>\n",
       "    <tr>\n",
       "      <th>5</th>\n",
       "      <td>0.182323</td>\n",
       "      <td>{u'estimator__C': 1.0}</td>\n",
       "    </tr>\n",
       "    <tr>\n",
       "      <th>4</th>\n",
       "      <td>0.000700</td>\n",
       "      <td>{u'estimator__C': 0.1}</td>\n",
       "    </tr>\n",
       "    <tr>\n",
       "      <th>0</th>\n",
       "      <td>0.000000</td>\n",
       "      <td>{u'estimator__C': 1e-05}</td>\n",
       "    </tr>\n",
       "    <tr>\n",
       "      <th>1</th>\n",
       "      <td>0.000000</td>\n",
       "      <td>{u'estimator__C': 0.0001}</td>\n",
       "    </tr>\n",
       "    <tr>\n",
       "      <th>2</th>\n",
       "      <td>0.000000</td>\n",
       "      <td>{u'estimator__C': 0.001}</td>\n",
       "    </tr>\n",
       "    <tr>\n",
       "      <th>3</th>\n",
       "      <td>0.000000</td>\n",
       "      <td>{u'estimator__C': 0.01}</td>\n",
       "    </tr>\n",
       "  </tbody>\n",
       "</table>\n",
       "</div>"
      ],
      "text/plain": [
       "    mean_test_score                       params\n",
       "10         0.382173  {u'estimator__C': 100000.0}\n",
       "9          0.380033   {u'estimator__C': 10000.0}\n",
       "8          0.376427    {u'estimator__C': 1000.0}\n",
       "7          0.364680     {u'estimator__C': 100.0}\n",
       "6          0.334247      {u'estimator__C': 10.0}\n",
       "5          0.182323       {u'estimator__C': 1.0}\n",
       "4          0.000700       {u'estimator__C': 0.1}\n",
       "0          0.000000     {u'estimator__C': 1e-05}\n",
       "1          0.000000    {u'estimator__C': 0.0001}\n",
       "2          0.000000     {u'estimator__C': 0.001}\n",
       "3          0.000000      {u'estimator__C': 0.01}"
      ]
     },
     "execution_count": 255,
     "metadata": {},
     "output_type": "execute_result"
    }
   ],
   "source": [
    "pd.DataFrame(cv.cv_results_)[['mean_test_score', 'params']].sort_values('mean_test_score', ascending=False)"
   ]
  },
  {
   "cell_type": "markdown",
   "metadata": {
    "deletable": true,
    "editable": true,
    "slideshow": {
     "slide_type": "subslide"
    }
   },
   "source": [
    "## Выбор порога\n",
    "\n",
    "* При вызове ```predict``` возвращается 1, если вероятность принадлежности к классу больше $0.5$\n",
    "* Можно выбирать порог самому через кросс-валидацию"
   ]
  },
  {
   "cell_type": "code",
   "execution_count": 260,
   "metadata": {
    "collapsed": false,
    "deletable": true,
    "editable": true,
    "slideshow": {
     "slide_type": "-"
    }
   },
   "outputs": [],
   "source": [
    "clf = OneVsRestClassifier(LogisticRegression(C=100000))\n",
    "y_hat_bow = cross_val_predict(clf, bow, y, method='predict_proba')\n",
    "y_hat_tf_idf = cross_val_predict(clf, tf_idf, y, method='predict_proba')"
   ]
  },
  {
   "cell_type": "markdown",
   "metadata": {
    "deletable": true,
    "editable": true
   },
   "source": [
    "Функция, которая в зависимости от порога ставит тег"
   ]
  },
  {
   "cell_type": "code",
   "execution_count": 30,
   "metadata": {
    "collapsed": true,
    "deletable": true,
    "editable": true
   },
   "outputs": [],
   "source": [
    "def get_score(alpha, y, y_hat):\n",
    "    return f1_score(y, (y_hat > alpha).astype('int'), average='samples')"
   ]
  },
  {
   "cell_type": "markdown",
   "metadata": {
    "deletable": true,
    "editable": true,
    "slideshow": {
     "slide_type": "subslide"
    }
   },
   "source": [
    "## Выбор порога для BOW\n",
    "\n",
    "* Качество с порогом по умолчанию — $F1=0.404732$\n",
    "* Качество с подобранным порогом — $F1=0.454356$"
   ]
  },
  {
   "cell_type": "code",
   "execution_count": 270,
   "metadata": {
    "collapsed": false,
    "deletable": true,
    "editable": true,
    "slideshow": {
     "slide_type": "-"
    }
   },
   "outputs": [
    {
     "name": "stdout",
     "output_type": "stream",
     "text": [
      "0.454356904762\n",
      "0.00535353535354\n"
     ]
    },
    {
     "data": {
      "image/png": "[encoded data removed]",
      "text/plain": [
       "<matplotlib.figure.Figure at 0x10c015490>"
      ]
     },
     "metadata": {},
     "output_type": "display_data"
    }
   ],
   "source": [
    "alphas = np.linspace(0.0, 0.01, 100)\n",
    "scores = [get_score(alpha, y, y_hat_bow) for alpha in alphas]\n",
    "\n",
    "plot(alphas, scores);\n",
    "scatter(alphas[np.argmax(scores)], np.max(scores));\n",
    "print(np.max(scores))\n",
    "print(alphas[np.argmax(scores)])"
   ]
  },
  {
   "cell_type": "markdown",
   "metadata": {
    "deletable": true,
    "editable": true,
    "slideshow": {
     "slide_type": "subslide"
    }
   },
   "source": [
    "## Выбор порога для Tf-Idf\n",
    "\n",
    "* Качество с порогом по умолчанию — $F1=0.382173$\n",
    "* Качество с подобранным порогом — $F1=0.493972$"
   ]
  },
  {
   "cell_type": "code",
   "execution_count": 271,
   "metadata": {
    "collapsed": false,
    "deletable": true,
    "editable": true,
    "slideshow": {
     "slide_type": "-"
    }
   },
   "outputs": [
    {
     "name": "stdout",
     "output_type": "stream",
     "text": [
      "0.493972857143\n",
      "0.00191919191919\n"
     ]
    },
    {
     "data": {
      "image/png": "[encoded data removed]",
      "text/plain": [
       "<matplotlib.figure.Figure at 0x10bfa4850>"
      ]
     },
     "metadata": {},
     "output_type": "display_data"
    }
   ],
   "source": [
    "alphas = np.linspace(0.0, 0.01, 100)\n",
    "scores = [get_score(alpha, y, y_hat_tf_idf) for alpha in alphas]\n",
    "\n",
    "plot(alphas, scores);\n",
    "scatter(alphas[np.argmax(scores)], np.max(scores));\n",
    "print(np.max(scores))\n",
    "print(alphas[np.argmax(scores)])"
   ]
  },
  {
   "cell_type": "markdown",
   "metadata": {
    "deletable": true,
    "editable": true,
    "slideshow": {
     "slide_type": "slide"
    }
   },
   "source": [
    "## N-граммы\n",
    "\n",
    "* При увеличении N количество признаков стремительно растёт\n",
    "* Даже для 10 тысяч объектов валидация и подбор гиперпараметров существенно замедляются"
   ]
  },
  {
   "cell_type": "code",
   "execution_count": 273,
   "metadata": {
    "collapsed": false,
    "deletable": true,
    "editable": true
   },
   "outputs": [
    {
     "name": "stdout",
     "output_type": "stream",
     "text": [
      "(10000, 1132373)\n",
      "<class 'scipy.sparse.csr.csr_matrix'>\n"
     ]
    }
   ],
   "source": [
    "vectorizer = CountVectorizer(binary=True, ngram_range=(1, 3))\n",
    "bow = vectorizer.fit_transform(texts.text)\n",
    "print(bow.shape)\n",
    "print(type(bow))"
   ]
  },
  {
   "cell_type": "markdown",
   "metadata": {
    "deletable": true,
    "editable": true,
    "slideshow": {
     "slide_type": "subslide"
    }
   },
   "source": [
    "## Hashing Trick\n",
    "\n",
    "Вместо того, чтобы хранить каждый вариант N-граммы отдельно, мы будем получать индекс столбца, хешируя содержимое.\n",
    "\n",
    "Позволяет задавать произвольное количество столбцов."
   ]
  },
  {
   "cell_type": "code",
   "execution_count": 278,
   "metadata": {
    "collapsed": false,
    "deletable": true,
    "editable": true
   },
   "outputs": [
    {
     "name": "stdout",
     "output_type": "stream",
     "text": [
      "(10000, 50000)\n",
      "<class 'scipy.sparse.csr.csr_matrix'>\n"
     ]
    }
   ],
   "source": [
    "vectorizer = HashingVectorizer(binary=True, ngram_range=(1, 3), n_features=50000)\n",
    "bow = vectorizer.fit_transform(texts.text)\n",
    "print(bow.shape)\n",
    "print(type(bow))"
   ]
  },
  {
   "cell_type": "code",
   "execution_count": 280,
   "metadata": {
    "collapsed": true,
    "deletable": true,
    "editable": true,
    "slideshow": {
     "slide_type": "skip"
    }
   },
   "outputs": [],
   "source": [
    "params = {'estimator__C': np.logspace(-5, 5, 11)}\n",
    "\n",
    "clf = OneVsRestClassifier(LogisticRegression())\n",
    "cv = GridSearchCV(clf, params, n_jobs=-1, scoring=make_scorer(f1_score, average='samples'), cv=5)\n",
    "cv.fit(bow, y);"
   ]
  },
  {
   "cell_type": "code",
   "execution_count": 281,
   "metadata": {
    "collapsed": false,
    "deletable": true,
    "editable": true,
    "slideshow": {
     "slide_type": "skip"
    }
   },
   "outputs": [
    {
     "data": {
      "text/html": [
       "<div>\n",
       "<table border=\"1\" class=\"dataframe\">\n",
       "  <thead>\n",
       "    <tr style=\"text-align: right;\">\n",
       "      <th></th>\n",
       "      <th>mean_test_score</th>\n",
       "      <th>params</th>\n",
       "    </tr>\n",
       "  </thead>\n",
       "  <tbody>\n",
       "    <tr>\n",
       "      <th>10</th>\n",
       "      <td>0.280800</td>\n",
       "      <td>{u'estimator__C': 100000.0}</td>\n",
       "    </tr>\n",
       "    <tr>\n",
       "      <th>9</th>\n",
       "      <td>0.275890</td>\n",
       "      <td>{u'estimator__C': 10000.0}</td>\n",
       "    </tr>\n",
       "    <tr>\n",
       "      <th>8</th>\n",
       "      <td>0.265307</td>\n",
       "      <td>{u'estimator__C': 1000.0}</td>\n",
       "    </tr>\n",
       "    <tr>\n",
       "      <th>7</th>\n",
       "      <td>0.247607</td>\n",
       "      <td>{u'estimator__C': 100.0}</td>\n",
       "    </tr>\n",
       "    <tr>\n",
       "      <th>6</th>\n",
       "      <td>0.200850</td>\n",
       "      <td>{u'estimator__C': 10.0}</td>\n",
       "    </tr>\n",
       "    <tr>\n",
       "      <th>5</th>\n",
       "      <td>0.055257</td>\n",
       "      <td>{u'estimator__C': 1.0}</td>\n",
       "    </tr>\n",
       "    <tr>\n",
       "      <th>0</th>\n",
       "      <td>0.000000</td>\n",
       "      <td>{u'estimator__C': 1e-05}</td>\n",
       "    </tr>\n",
       "    <tr>\n",
       "      <th>1</th>\n",
       "      <td>0.000000</td>\n",
       "      <td>{u'estimator__C': 0.0001}</td>\n",
       "    </tr>\n",
       "    <tr>\n",
       "      <th>2</th>\n",
       "      <td>0.000000</td>\n",
       "      <td>{u'estimator__C': 0.001}</td>\n",
       "    </tr>\n",
       "    <tr>\n",
       "      <th>3</th>\n",
       "      <td>0.000000</td>\n",
       "      <td>{u'estimator__C': 0.01}</td>\n",
       "    </tr>\n",
       "    <tr>\n",
       "      <th>4</th>\n",
       "      <td>0.000000</td>\n",
       "      <td>{u'estimator__C': 0.1}</td>\n",
       "    </tr>\n",
       "  </tbody>\n",
       "</table>\n",
       "</div>"
      ],
      "text/plain": [
       "    mean_test_score                       params\n",
       "10         0.280800  {u'estimator__C': 100000.0}\n",
       "9          0.275890   {u'estimator__C': 10000.0}\n",
       "8          0.265307    {u'estimator__C': 1000.0}\n",
       "7          0.247607     {u'estimator__C': 100.0}\n",
       "6          0.200850      {u'estimator__C': 10.0}\n",
       "5          0.055257       {u'estimator__C': 1.0}\n",
       "0          0.000000     {u'estimator__C': 1e-05}\n",
       "1          0.000000    {u'estimator__C': 0.0001}\n",
       "2          0.000000     {u'estimator__C': 0.001}\n",
       "3          0.000000      {u'estimator__C': 0.01}\n",
       "4          0.000000       {u'estimator__C': 0.1}"
      ]
     },
     "execution_count": 281,
     "metadata": {},
     "output_type": "execute_result"
    }
   ],
   "source": [
    "pd.DataFrame(cv.cv_results_)[['mean_test_score', 'params']].sort_values('mean_test_score', ascending=False)"
   ]
  },
  {
   "cell_type": "markdown",
   "metadata": {
    "slideshow": {
     "slide_type": "subslide"
    }
   },
   "source": [
    "## Выбор порога для HashingTrick\n",
    "\n",
    "* Качество с подобранным порогом — $F1=0.509255$"
   ]
  },
  {
   "cell_type": "code",
   "execution_count": 282,
   "metadata": {
    "collapsed": true,
    "deletable": true,
    "editable": true,
    "slideshow": {
     "slide_type": "-"
    }
   },
   "outputs": [],
   "source": [
    "clf = OneVsRestClassifier(LogisticRegression(C=100000))\n",
    "y_hat_bow = cross_val_predict(clf, bow, y, method='predict_proba')"
   ]
  },
  {
   "cell_type": "code",
   "execution_count": 283,
   "metadata": {
    "collapsed": false,
    "deletable": true,
    "editable": true,
    "slideshow": {
     "slide_type": "-"
    }
   },
   "outputs": [
    {
     "name": "stdout",
     "output_type": "stream",
     "text": [
      "0.509255\n",
      "0.00191919191919\n"
     ]
    },
    {
     "data": {
      "image/png": "[encoded data removed]",
      "text/plain": [
       "<matplotlib.figure.Figure at 0x10b0e8910>"
      ]
     },
     "metadata": {},
     "output_type": "display_data"
    }
   ],
   "source": [
    "alphas = np.linspace(0.0, 0.01, 100)\n",
    "scores = [get_score(alpha, y, y_hat_bow) for alpha in alphas]\n",
    "\n",
    "plot(alphas, scores);\n",
    "scatter(alphas[np.argmax(scores)], np.max(scores));\n",
    "print(np.max(scores))\n",
    "print(alphas[np.argmax(scores)])"
   ]
  },
  {
   "cell_type": "markdown",
   "metadata": {
    "deletable": true,
    "editable": true,
    "slideshow": {
     "slide_type": "slide"
    }
   },
   "source": [
    "## Понижение размерности\n",
    "\n",
    "Можно получать ```dense``` матрицы любым способом, который вам нравится.\n",
    "\n",
    "Позволяет сократить время обучения и использовать методы, которые больше подходят ```dense``` матрицы."
   ]
  },
  {
   "cell_type": "code",
   "execution_count": 9,
   "metadata": {
    "collapsed": false,
    "deletable": true,
    "editable": true,
    "slideshow": {
     "slide_type": "-"
    }
   },
   "outputs": [
    {
     "name": "stdout",
     "output_type": "stream",
     "text": [
      "(10000, 397950)\n",
      "<class 'scipy.sparse.csr.csr_matrix'>\n"
     ]
    }
   ],
   "source": [
    "vectorizer = TfidfVectorizer(ngram_range=(1, 2))\n",
    "tf_idf = vectorizer.fit_transform(texts.text)\n",
    "print(tf_idf.shape)\n",
    "print(type(tf_idf))"
   ]
  },
  {
   "cell_type": "code",
   "execution_count": null,
   "metadata": {
    "collapsed": false,
    "deletable": true,
    "editable": true,
    "slideshow": {
     "slide_type": "-"
    }
   },
   "outputs": [],
   "source": [
    "svd = TruncatedSVD(n_components=200, n_iter=5)\n",
    "tf_idf_svd = svd.fit_transform(tf_idf)"
   ]
  },
  {
   "cell_type": "code",
   "execution_count": null,
   "metadata": {
    "collapsed": false,
    "deletable": true,
    "editable": true,
    "slideshow": {
     "slide_type": "skip"
    }
   },
   "outputs": [],
   "source": [
    "clf = OneVsRestClassifier(LogisticRegression())\n",
    "y_hat_tf_idf_svd = cross_val_predict(clf, tf_idf_svd, y, method='predict_proba')"
   ]
  },
  {
   "cell_type": "code",
   "execution_count": null,
   "metadata": {
    "collapsed": false,
    "deletable": true,
    "editable": true,
    "slideshow": {
     "slide_type": "skip"
    }
   },
   "outputs": [],
   "source": [
    "alphas = np.linspace(0.1, 0.3, 100)\n",
    "scores = [get_score(alpha, y, y_hat_tf_idf_svd) for alpha in alphas]\n",
    "\n",
    "plot(alphas, scores);\n",
    "scatter(alphas[np.argmax(scores)], np.max(scores));\n",
    "print(np.max(scores))\n",
    "print(alphas[np.argmax(scores)])"
   ]
  },
  {
   "cell_type": "markdown",
   "metadata": {
    "deletable": true,
    "editable": true,
    "slideshow": {
     "slide_type": "slide"
    }
   },
   "source": [
    "## Блендинг\n",
    "\n",
    "Когда у нас есть несколько моделей, мы можем получать смешенное предсказание.\n",
    "\n",
    "Если модели не сильно скоррелированы, то зачастую мы можем улучшить качество результирующей модели. "
   ]
  },
  {
   "cell_type": "code",
   "execution_count": 35,
   "metadata": {
    "collapsed": false,
    "deletable": true,
    "editable": true
   },
   "outputs": [
    {
     "name": "stdout",
     "output_type": "stream",
     "text": [
      "(10000, 50000)\n",
      "<class 'scipy.sparse.csr.csr_matrix'>\n"
     ]
    }
   ],
   "source": [
    "vectorizer = HashingVectorizer(binary=True, ngram_range=(1, 3), n_features=50000)\n",
    "bow = vectorizer.fit_transform(texts.text)\n",
    "print(bow.shape)\n",
    "print(type(bow))"
   ]
  },
  {
   "cell_type": "code",
   "execution_count": 36,
   "metadata": {
    "collapsed": false,
    "deletable": true,
    "editable": true
   },
   "outputs": [
    {
     "name": "stdout",
     "output_type": "stream",
     "text": [
      "(10000, 35247)\n",
      "<class 'scipy.sparse.csr.csr_matrix'>\n"
     ]
    }
   ],
   "source": [
    "vectorizer = TfidfVectorizer()\n",
    "tf_idf = vectorizer.fit_transform(texts.text)\n",
    "print(tf_idf.shape)\n",
    "print(type(tf_idf))"
   ]
  },
  {
   "cell_type": "markdown",
   "metadata": {
    "slideshow": {
     "slide_type": "subslide"
    }
   },
   "source": [
    "## Предсказания\n",
    "\n",
    "С помощью кросс-валидации предскажем обучающую выборку для каждой модели.\n",
    "\n",
    "В итоге мы получим несмещённые предсказания для объектов, у которых уже знаем метки."
   ]
  },
  {
   "cell_type": "code",
   "execution_count": 41,
   "metadata": {
    "collapsed": true,
    "slideshow": {
     "slide_type": "skip"
    }
   },
   "outputs": [],
   "source": [
    "folds = KFold(random_state=123)"
   ]
  },
  {
   "cell_type": "code",
   "execution_count": 42,
   "metadata": {
    "collapsed": false,
    "deletable": true,
    "editable": true
   },
   "outputs": [],
   "source": [
    "clf_lr = OneVsRestClassifier(LogisticRegression(C=100000))\n",
    "y_hat_lr = cross_val_predict(clf_lr, bow, y, method='predict_proba', cv=folds)"
   ]
  },
  {
   "cell_type": "code",
   "execution_count": 43,
   "metadata": {
    "collapsed": true,
    "deletable": true,
    "editable": true
   },
   "outputs": [],
   "source": [
    "clf_lr = OneVsRestClassifier(LogisticRegression(C=100000))\n",
    "y_hat_lr_tf_idf = cross_val_predict(clf_lr, tf_idf, y, method='predict_proba', cv=folds)"
   ]
  },
  {
   "cell_type": "markdown",
   "metadata": {
    "slideshow": {
     "slide_type": "subslide"
    }
   },
   "source": [
    "## Оценка\n",
    "\n",
    "Получим качество на каждой моделе в отдельности и на их смеси.\n",
    "* Качество первой модели — $F1=0.5092$\n",
    "* Качество второй модели — $F1=0.4935$\n",
    "* Качество их смеси — $F1=0.5270$"
   ]
  },
  {
   "cell_type": "code",
   "execution_count": 50,
   "metadata": {
    "collapsed": false
   },
   "outputs": [
    {
     "name": "stdout",
     "output_type": "stream",
     "text": [
      "0.50923452381\n",
      "0.493558095238\n",
      "0.527097619048\n"
     ]
    }
   ],
   "source": [
    "alphas = np.linspace(0.0, 0.02, 100)\n",
    "lr_scores = [get_score(alpha, y, y_hat_lr) for alpha in alphas]\n",
    "nb_scores = [get_score(alpha, y, y_hat_lr_tf_idf) for alpha in alphas]\n",
    "lr_nb_scores = [get_score(alpha, y, 0.5 * y_hat_lr_tf_idf + 0.5 * y_hat_lr) for alpha in alphas]\n",
    "\n",
    "print(np.max(lr_scores))\n",
    "print(np.max(nb_scores))\n",
    "print(np.max(lr_nb_scores))"
   ]
  },
  {
   "cell_type": "code",
   "execution_count": 51,
   "metadata": {
    "collapsed": false,
    "deletable": true,
    "editable": true,
    "slideshow": {
     "slide_type": "subslide"
    }
   },
   "outputs": [
    {
     "data": {
      "image/png": "[encoded data removed]",
      "text/plain": [
       "<matplotlib.figure.Figure at 0x1095ba510>"
      ]
     },
     "metadata": {},
     "output_type": "display_data"
    }
   ],
   "source": [
    "plot(alphas, lr_scores);\n",
    "plot(alphas, nb_scores);\n",
    "plot(alphas, lr_nb_scores);\n",
    "\n",
    "scatter(alphas[np.argmax(lr_scores)], np.max(lr_scores));\n",
    "scatter(alphas[np.argmax(nb_scores)], np.max(nb_scores));\n",
    "scatter(alphas[np.argmax(lr_nb_scores)], np.max(lr_nb_scores));"
   ]
  },
  {
   "cell_type": "markdown",
   "metadata": {
    "slideshow": {
     "slide_type": "subslide"
    }
   },
   "source": [
    "## Стекинг\n",
    "\n",
    "Вместо ручного смешивания результатов мы можем подавать их на вход другим алгоритмам.\n",
    "\n",
    "Подготовим переменную  ```stacked```, которая будет содержать предсказания предыдущих алгоритмов"
   ]
  },
  {
   "cell_type": "code",
   "execution_count": 46,
   "metadata": {
    "collapsed": false,
    "deletable": true,
    "editable": true
   },
   "outputs": [],
   "source": [
    "stacked = np.hstack([y_hat_lr, y_hat_lr_tf_idf])\n",
    "clf_stacked = OneVsRestClassifier(RandomForestClassifier(n_estimators=100))\n",
    "y_hat_stacked = cross_val_predict(clf_stacked, stacked, y, method='predict_proba', cv=folds)"
   ]
  },
  {
   "cell_type": "markdown",
   "metadata": {
    "slideshow": {
     "slide_type": "subslide"
    }
   },
   "source": [
    "## Оценка\n",
    "\n",
    "После подбора порога получим $F1=0.547874$, что больше всех предыдущих результатов."
   ]
  },
  {
   "cell_type": "code",
   "execution_count": 47,
   "metadata": {
    "collapsed": false,
    "deletable": true,
    "editable": true
   },
   "outputs": [
    {
     "name": "stdout",
     "output_type": "stream",
     "text": [
      "0.547874126984\n",
      "0.232323232323\n"
     ]
    },
    {
     "data": {
      "image/png": "[encoded data removed]",
      "text/plain": [
       "<matplotlib.figure.Figure at 0x109586810>"
      ]
     },
     "metadata": {},
     "output_type": "display_data"
    }
   ],
   "source": [
    "alphas = np.linspace(0, 1, 100)\n",
    "scores = [get_score(alpha, y, y_hat_stacked) for alpha in alphas]\n",
    "\n",
    "plot(alphas, scores);\n",
    "scatter(alphas[np.argmax(scores)], np.max(scores));\n",
    "print(np.max(scores))\n",
    "print(alphas[np.argmax(scores)])"
   ]
  },
  {
   "cell_type": "markdown",
   "metadata": {
    "slideshow": {
     "slide_type": "subslide"
    }
   },
   "source": [
    "## Больше про стекинг \n",
    "\n",
    "Почти во всех конкурсах так или иначе используется стекинг или блендинг, поэтому очень важно понимать как они работают и как их использовать.\n",
    "\n",
    "* [Kaggle Ensembling Guide](http://mlwave.com/kaggle-ensembling-guide/)\n",
    "* [Стекинг и блендинг (Дьяконов)](https://alexanderdyakonov.wordpress.com/2017/03/10/cтекинг-stacking-и-блендинг-blending/#more-4558)"
   ]
  },
  {
   "cell_type": "markdown",
   "metadata": {
    "deletable": true,
    "editable": true,
    "slideshow": {
     "slide_type": "slide"
    }
   },
   "source": [
    "## VW\n",
    "\n",
    "* Разработка Yahoo и потом Microsoft\n",
    "* Библиотека и __CLI__ программа, позволяющая строить линейные модели\n",
    "* Способна обрабатывать миллиарды объектов с сотнями тысяч признаков"
   ]
  },
  {
   "cell_type": "markdown",
   "metadata": {
    "deletable": true,
    "editable": true,
    "slideshow": {
     "slide_type": "subslide"
    }
   },
   "source": [
    "## Установка VW\n",
    "\n",
    "* Ubuntu — ```apt-get instal vowpal-wabbit```\n",
    "* Mac OS — ```port install vowpal_wabbit```\n",
    "* Windows — скачать установочник [тут](https://github.com/eisber/vowpal_wabbit/releases)\n",
    "\n",
    "[Варианты](https://github.com/JohnLangford/vowpal_wabbit/wiki/Download) установки из официальной wiki"
   ]
  },
  {
   "cell_type": "markdown",
   "metadata": {
    "deletable": true,
    "editable": true,
    "slideshow": {
     "slide_type": "subslide"
    }
   },
   "source": [
    "## Проверяем VW"
   ]
  },
  {
   "cell_type": "code",
   "execution_count": 53,
   "metadata": {
    "collapsed": false,
    "deletable": true,
    "editable": true,
    "slideshow": {
     "slide_type": "-"
    }
   },
   "outputs": [
    {
     "name": "stdout",
     "output_type": "stream",
     "text": [
      "Num weight bits = 18\r\n",
      "learning rate = 0.5\r\n",
      "initial_t = 0\r\n",
      "power_t = 0.5\r\n",
      "using no cache\r\n",
      "Reading datafile = \r\n",
      "num sources = 1\r\n",
      "\r\n",
      "\r\n",
      "VW options:\r\n",
      "  --random_seed arg                     seed random number generator\r\n",
      "  --ring_size arg                       size of example ring\r\n",
      "\r\n",
      "Update options:\r\n",
      "  -l [ --learning_rate ] arg            Set learning rate\r\n",
      "  --power_t arg                         t power value\r\n",
      "  --decay_learning_rate arg             Set Decay factor for learning_rate \r\n",
      "                                        between passes\r\n",
      "  --initial_t arg                       initial t value\r\n",
      "  --feature_mask arg                    Use existing regressor to determine \r\n",
      "                                        which parameters may be updated.  If no\r\n",
      "                                        initial_regressor given, also used for \r\n",
      "                                        initial weights.\r\n",
      "\r\n",
      "Weight options:\r\n",
      "  -i [ --initial_regressor ] arg        Initial regressor(s)\r\n",
      "  --initial_weight arg                  Set all weights to an initial value of \r\n",
      "                                        arg.\r\n",
      "  --random_weights arg                  make initial weights random\r\n",
      "  --input_feature_regularizer arg       Per feature regularization input file\r\n",
      "\r\n",
      "Parallelization options:\r\n",
      "  --span_server arg                     Location of server for setting up \r\n",
      "                                        spanning tree\r\n",
      "  --threads                             Enable multi-threading\r\n",
      "  --unique_id arg (=0)                  unique id used for cluster parallel \r\n",
      "                                        jobs\r\n",
      "  --total arg (=1)                      total number of nodes used in cluster \r\n",
      "                                        parallel job\r\n",
      "  --node arg (=0)                       node number in cluster parallel job\r\n",
      "\r\n",
      "Diagnostic options:\r\n",
      "  --version                             Version information\r\n",
      "  -a [ --audit ]                        print weights of features\r\n",
      "  -P [ --progress ] arg                 Progress update frequency. int: \r\n",
      "                                        additive, float: multiplicative\r\n",
      "  --quiet                               Don't output disgnostics and progress \r\n",
      "                                        updates\r\n",
      "  -h [ --help ]                         Look here: http://hunch.net/~vw/ and \r\n",
      "                                        click on Tutorial.\r\n",
      "\r\n",
      "Feature options:\r\n",
      "  --hash arg                            how to hash the features. Available \r\n",
      "                                        options: strings, all\r\n",
      "  --ignore arg                          ignore namespaces beginning with \r\n",
      "                                        character <arg>\r\n",
      "  --keep arg                            keep namespaces beginning with \r\n",
      "                                        character <arg>\r\n",
      "  --redefine arg                        redefine namespaces beginning with \r\n",
      "                                        characters of string S as namespace N. \r\n",
      "                                        <arg> shall be in form 'N:=S' where := \r\n",
      "                                        is operator. Empty N or S are treated \r\n",
      "                                        as default namespace. Use ':' as a \r\n",
      "                                        wildcard in S.\r\n",
      "  -b [ --bit_precision ] arg            number of bits in the feature table\r\n",
      "  --noconstant                          Don't add a constant feature\r\n",
      "  -C [ --constant ] arg                 Set initial value of constant\r\n",
      "  --ngram arg                           Generate N grams. To generate N grams \r\n",
      "                                        for a single namespace 'foo', arg \r\n",
      "                                        should be fN.\r\n",
      "  --skips arg                           Generate skips in N grams. This in \r\n",
      "                                        conjunction with the ngram tag can be \r\n",
      "                                        used to generate generalized \r\n",
      "                                        n-skip-k-gram. To generate n-skips for \r\n",
      "                                        a single namespace 'foo', arg should be\r\n",
      "                                        fN.\r\n",
      "  --feature_limit arg                   limit to N features. To apply to a \r\n",
      "                                        single namespace 'foo', arg should be \r\n",
      "                                        fN\r\n",
      "  --affix arg                           generate prefixes/suffixes of features;\r\n",
      "                                        argument '+2a,-3b,+1' means generate \r\n",
      "                                        2-char prefixes for namespace a, 3-char\r\n",
      "                                        suffixes for b and 1 char prefixes for \r\n",
      "                                        default namespace\r\n",
      "  --spelling arg                        compute spelling features for a give \r\n",
      "                                        namespace (use '_' for default \r\n",
      "                                        namespace)\r\n",
      "  --dictionary arg                      read a dictionary for additional \r\n",
      "                                        features (arg either 'x:file' or just \r\n",
      "                                        'file')\r\n",
      "  --dictionary_path arg                 look in this directory for \r\n",
      "                                        dictionaries; defaults to current \r\n",
      "                                        directory or env{PATH}\r\n",
      "  --interactions arg                    Create feature interactions of any \r\n",
      "                                        level between namespaces.\r\n",
      "  --permutations                        Use permutations instead of \r\n",
      "                                        combinations for feature interactions \r\n",
      "                                        of same namespace.\r\n",
      "  --leave_duplicate_interactions        Don't remove interactions with \r\n",
      "                                        duplicate combinations of namespaces. \r\n",
      "                                        For ex. this is a duplicate: '-q ab -q \r\n",
      "                                        ba' and a lot more in '-q ::'.\r\n",
      "  -q [ --quadratic ] arg                Create and use quadratic features\r\n",
      "  --q: arg                              : corresponds to a wildcard for all \r\n",
      "                                        printable characters\r\n",
      "  --cubic arg                           Create and use cubic features\r\n",
      "\r\n",
      "Example options:\r\n",
      "  -t [ --testonly ]                     Ignore label information and just test\r\n",
      "  --holdout_off                         no holdout data in multiple passes\r\n",
      "  --holdout_period arg                  holdout period for test only, default \r\n",
      "                                        10\r\n",
      "  --holdout_after arg                   holdout after n training examples, \r\n",
      "                                        default off (disables holdout_period)\r\n",
      "  --early_terminate arg                 Specify the number of passes tolerated \r\n",
      "                                        when holdout loss doesn't decrease \r\n",
      "                                        before early termination, default is 3\r\n",
      "  --passes arg                          Number of Training Passes\r\n",
      "  --initial_pass_length arg             initial number of examples per pass\r\n",
      "  --examples arg                        number of examples to parse\r\n",
      "  --min_prediction arg                  Smallest prediction to output\r\n",
      "  --max_prediction arg                  Largest prediction to output\r\n",
      "  --sort_features                       turn this on to disregard order in \r\n",
      "                                        which features have been defined. This \r\n",
      "                                        will lead to smaller cache sizes\r\n",
      "  --loss_function arg (=squared)        Specify the loss function to be used, \r\n",
      "                                        uses squared by default. Currently \r\n",
      "                                        available ones are squared, classic, \r\n",
      "                                        hinge, logistic, quantile and poisson.\r\n",
      "  --quantile_tau arg (=0.5)             Parameter \\tau associated with Quantile\r\n",
      "                                        loss. Defaults to 0.5\r\n",
      "  --l1 arg                              l_1 lambda\r\n",
      "  --l2 arg                              l_2 lambda\r\n",
      "  --named_labels arg                    use names for labels (multiclass, etc.)\r\n",
      "                                        rather than integers, argument \r\n",
      "                                        specified all possible labels, \r\n",
      "                                        comma-sep, eg \"--named_labels \r\n",
      "                                        Noun,Verb,Adj,Punc\"\r\n",
      "\r\n",
      "Output model:\r\n",
      "  -f [ --final_regressor ] arg          Final regressor\r\n",
      "  --readable_model arg                  Output human-readable final regressor \r\n",
      "                                        with numeric features\r\n",
      "  --invert_hash arg                     Output human-readable final regressor \r\n",
      "                                        with feature names.  Computationally \r\n",
      "                                        expensive.\r\n",
      "  --save_resume                         save extra state so learning can be \r\n",
      "                                        resumed later with new data\r\n",
      "  --save_per_pass                       Save the model after every pass over \r\n",
      "                                        data\r\n",
      "  --output_feature_regularizer_binary arg\r\n",
      "                                        Per feature regularization output file\r\n",
      "  --output_feature_regularizer_text arg Per feature regularization output file,\r\n",
      "                                        in text\r\n",
      "  --id arg                              User supplied ID embedded into the \r\n",
      "                                        final regressor\r\n",
      "\r\n",
      "Output options:\r\n",
      "  -p [ --predictions ] arg              File to output predictions to\r\n",
      "  -r [ --raw_predictions ] arg          File to output unnormalized predictions\r\n",
      "                                        to\r\n",
      "\r\n",
      "Reduction options, use [option] --help for more info:\r\n",
      "\r\n",
      "  --audit_regressor arg                 stores feature names and their \r\n",
      "                                        regressor values. Same dataset must be \r\n",
      "                                        used for both regressor training and \r\n",
      "                                        this mode.\r\n",
      "\r\n",
      "  --bootstrap arg                       k-way bootstrap by online importance \r\n",
      "                                        resampling\r\n",
      "\r\n",
      "  --search arg                          Use learning to search, \r\n",
      "                                        argument=maximum action id or 0 for LDF\r\n",
      "\r\n",
      "  --replay_c arg                        use experience replay at a specified \r\n",
      "                                        level [b=classification/regression, \r\n",
      "                                        m=multiclass, c=cost sensitive] with \r\n",
      "                                        specified buffer size\r\n",
      "\r\n",
      "  --explore_eval                        Evaluate explore_eval adf policies\r\n",
      "\r\n",
      "  --cbify arg                           Convert multiclass on <k> classes into \r\n",
      "                                        a contextual bandit problem\r\n",
      "\r\n",
      "  --cb_explore_adf                      Online explore-exploit for a contextual\r\n",
      "                                        bandit problem with multiline action \r\n",
      "                                        dependent features\r\n",
      "\r\n",
      "  --cb_explore arg                      Online explore-exploit for a <k> action\r\n",
      "                                        contextual bandit problem\r\n",
      "\r\n",
      "  --multiworld_test arg                 Evaluate features as a policies\r\n",
      "\r\n",
      "  --cb_adf                              Do Contextual Bandit learning with \r\n",
      "                                        multiline action dependent features.\r\n",
      "\r\n",
      "  --cb arg                              Use contextual bandit learning with <k>\r\n",
      "                                        costs\r\n",
      "\r\n",
      "  --csoaa_ldf arg                       Use one-against-all multiclass learning\r\n",
      "                                        with label dependent features.  Specify\r\n",
      "                                        singleline or multiline.\r\n",
      "\r\n",
      "  --wap_ldf arg                         Use weighted all-pairs multiclass \r\n",
      "                                        learning with label dependent features.\r\n",
      "                                          Specify singleline or multiline.\r\n",
      "\r\n",
      "  --interact arg                        Put weights on feature products from \r\n",
      "                                        namespaces <n1> and <n2>\r\n",
      "\r\n",
      "  --csoaa arg                           One-against-all multiclass with <k> \r\n",
      "                                        costs\r\n",
      "\r\n",
      "  --multilabel_oaa arg                  One-against-all multilabel with <k> \r\n",
      "                                        labels\r\n",
      "\r\n",
      "  --recall_tree arg                     Use online tree for multiclass\r\n",
      "\r\n",
      "  --log_multi arg                       Use online tree for multiclass\r\n",
      "\r\n",
      "  --ect arg                             Error correcting tournament with <k> \r\n",
      "                                        labels\r\n",
      "\r\n",
      "  --boosting arg                        Online boosting with <N> weak learners\r\n",
      "\r\n",
      "  --oaa arg                             One-against-all multiclass with <k> \r\n",
      "                                        labels\r\n",
      "\r\n",
      "  --top arg                             top k recommendation\r\n",
      "\r\n",
      "  --replay_m arg                        use experience replay at a specified \r\n",
      "                                        level [b=classification/regression, \r\n",
      "                                        m=multiclass, c=cost sensitive] with \r\n",
      "                                        specified buffer size\r\n",
      "\r\n",
      "  --binary                              report loss as binary classification on\r\n",
      "                                        -1,1\r\n",
      "\r\n",
      "  --link arg (=identity)                Specify the link function: identity, \r\n",
      "                                        logistic, glf1 or poisson\r\n",
      "\r\n",
      "  --stage_poly                          use stagewise polynomial feature \r\n",
      "                                        learning\r\n",
      "\r\n",
      "  --lrqfa arg                           use low rank quadratic features with \r\n",
      "                                        field aware weights\r\n",
      "\r\n",
      "  --lrq arg                             use low rank quadratic features\r\n",
      "\r\n",
      "  --autolink arg                        create link function with polynomial d\r\n",
      "\r\n",
      "  --marginal arg                        substitute marginal label estimates for\r\n",
      "                                        ids\r\n",
      "\r\n",
      "  --new_mf arg                          rank for reduction-based matrix \r\n",
      "                                        factorization\r\n",
      "\r\n",
      "  --nn arg                              Sigmoidal feedforward network with <k> \r\n",
      "                                        hidden units\r\n",
      "\r\n",
      "confidence options:\r\n",
      "  --confidence_after_training           Confidence after training\r\n",
      "\r\n",
      "  --confidence                          Get confidence for binary predictions\r\n",
      "\r\n",
      "  --active_cover                        enable active learning with cover\r\n",
      "\r\n",
      "  --active                              enable active learning\r\n",
      "\r\n",
      "  --replay_b arg                        use experience replay at a specified \r\n",
      "                                        level [b=classification/regression, \r\n",
      "                                        m=multiclass, c=cost sensitive] with \r\n",
      "                                        specified buffer size\r\n",
      "\r\n",
      "  --OjaNewton                           Online Newton with Oja's Sketch\r\n",
      "\r\n",
      "  --bfgs                                use bfgs optimization\r\n",
      "\r\n",
      "  --conjugate_gradient                  use conjugate gradient based \r\n",
      "                                        optimization\r\n",
      "\r\n",
      "  --lda arg                             Run lda with <int> topics\r\n",
      "\r\n",
      "  --noop                                do no learning\r\n",
      "\r\n",
      "  --print                               print examples\r\n",
      "\r\n",
      "  --rank arg                            rank for matrix factorization.\r\n",
      "\r\n",
      "  --sendto arg                          send examples to <host>\r\n",
      "\r\n",
      "  --svrg                                Streaming Stochastic Variance Reduced \r\n",
      "                                        Gradient\r\n",
      "\r\n",
      "  --ftrl                                FTRL: Follow the Proximal Regularized \r\n",
      "                                        Leader\r\n",
      "\r\n",
      "  --pistol                              FTRL: Parameter-free Stochastic \r\n",
      "                                        Learning\r\n",
      "\r\n",
      "  --ksvm                                kernel svm\r\n",
      "\r\n",
      "Gradient Descent options:\r\n",
      "  --sgd                                 use regular stochastic gradient descent\r\n",
      "                                        update.\r\n",
      "  --adaptive                            use adaptive, individual learning \r\n",
      "                                        rates.\r\n",
      "  --invariant                           use safe/importance aware updates.\r\n",
      "  --normalized                          use per feature normalized updates\r\n",
      "  --sparse_l2 arg (=0)                  use per feature normalized updates\r\n",
      "\r\n",
      "Input options:\r\n",
      "  -d [ --data ] arg                     Example Set\r\n",
      "  --daemon                              persistent daemon mode on port 26542\r\n",
      "  --port arg                            port to listen on; use 0 to pick unused\r\n",
      "                                        port\r\n",
      "  --num_children arg                    number of children for persistent \r\n",
      "                                        daemon mode\r\n",
      "  --pid_file arg                        Write pid file in persistent daemon \r\n",
      "                                        mode\r\n",
      "  --port_file arg                       Write port used in persistent daemon \r\n",
      "                                        mode\r\n",
      "  -c [ --cache ]                        Use a cache.  The default is \r\n",
      "                                        <data>.cache\r\n",
      "  --cache_file arg                      The location(s) of cache_file.\r\n",
      "  --json                                Enable JSON parsing.\r\n",
      "  -k [ --kill_cache ]                   do not reuse existing cache: create a \r\n",
      "                                        new one always\r\n",
      "  --compressed                          use gzip format whenever possible. If a\r\n",
      "                                        cache file is being created, this \r\n",
      "                                        option creates a compressed cache file.\r\n",
      "                                        A mixture of raw-text & compressed \r\n",
      "                                        inputs are supported with \r\n",
      "                                        autodetection.\r\n",
      "  --no_stdin                            do not default to reading from stdin\r\n",
      "\r\n"
     ]
    }
   ],
   "source": [
    "!vw -h"
   ]
  },
  {
   "cell_type": "markdown",
   "metadata": {
    "deletable": true,
    "editable": true,
    "slideshow": {
     "slide_type": "subslide"
    }
   },
   "source": [
    "## Формат ввода\n",
    "\n",
    "* Использует необычный формат входных данных\n",
    "* ```Label [weight] |Namespace Feature ... |Namespace ...```\n",
    "    * ```Label``` — метка класса для задачи классификации или действительное число для задачи регрессии\n",
    "    * ```weight``` — вес объекта, по умолчанию у всех одинаковый\n",
    "    * ```Namespace``` — все признаки разбиты на области видимости, может использоваться для раздельного использования или создания квадратичных признаков между областями\n",
    "    * ```Feature``` — ```string[:value]``` или ```int[:value]``` строки будут хешированы, числа будут использоваться как индекс в векторе признаков. ```value``` по умолчанию равно $1$"
   ]
  },
  {
   "cell_type": "markdown",
   "metadata": {
    "deletable": true,
    "editable": true,
    "slideshow": {
     "slide_type": "subslide"
    }
   },
   "source": [
    "## Hashing trick\n",
    "\n",
    "Вводится функция $h$, с помощью которой получается индекс для записи значения в вектор признаков объекта.\n",
    "\n",
    "$$h : F \\rightarrow \\{0, \\dots, 2^b - 1\\}$$\n",
    "\n",
    "С помощью ```--b``` можно задавать размер области значений хеш-функции."
   ]
  },
  {
   "cell_type": "markdown",
   "metadata": {
    "deletable": true,
    "editable": true,
    "slideshow": {
     "slide_type": "subslide"
    }
   },
   "source": [
    "## Optimization\n",
    "\n",
    "Может использовать ```SGD``` или ```L-BFGS```\n",
    "\n",
    "* ```SGD``` по умолчанию, позволяет делать онлайн обучение. Почти всегда необходимо несколько проходов по данным.\n",
    "* ```L-BFGS``` включается с помощью ```--bfgs```, работает только с данными небольшого размера\n",
    "* Количество проходов для ```SGD``` задаётся с помощью параметра ```--passes```"
   ]
  },
  {
   "cell_type": "markdown",
   "metadata": {
    "slideshow": {
     "slide_type": "subslide"
    }
   },
   "source": [
    "## Параметры оптимизации\n",
    "\n",
    "Проходим по всем элементам обучающей выборки много раз, на каждом объекте делаем поправку весов:\n",
    "<br/>\n",
    "\n",
    "\n",
    "$$w_{t+1} = w_{t} + \\eta_t \\nabla_{w}\\ell(w_{t}, x_{t})$$\n",
    "$$\\eta_t = \\lambda d^k \\left( \\frac{t_0}{t_0 + w} \\right)^p$$\n",
    "\n",
    "Здесь $t$ — порядковый номер объекта обучения, $k$ — номер прохода по всей выборке.\n",
    "\n",
    "* $\\lambda$:  ``-l`` (learning rate) <br/>\n",
    "* $d$: ``--decay_learning_rate`` <br/>\n",
    "* $t_0$: ``--initial_t`` <br/>\n",
    "* $p$: ``--power_t`` <br/>\n",
    "* $k_{max}$: ``--passes``"
   ]
  },
  {
   "cell_type": "markdown",
   "metadata": {
    "slideshow": {
     "slide_type": "subslide"
    }
   },
   "source": [
    "## Оценка качества\n",
    "\n",
    "``average loss`` — loss by [progressive validation](http://hunch.net/~jl/projects/prediction_bounds/progressive_validation/coltfinal.pdf)\n",
    "\n",
    "\n",
    "\n",
    "$$\\text{Progressive error} = \\frac{e_1 + e_2 + ... + e_s}{s}$$\n",
    "\n",
    "\n",
    "\n",
    "\n",
    "$e_i$ — loss на объекте $x_i$ при обучении на объектах $\\{x_1 ... x_{i-1}\\}$"
   ]
  },
  {
   "cell_type": "markdown",
   "metadata": {
    "deletable": true,
    "editable": true,
    "slideshow": {
     "slide_type": "subslide"
    }
   },
   "source": [
    "## Примеры для бинарной классификации\n",
    "\n",
    "* Два класса с признаками A и B\n",
    "\n",
    "<pre>\n",
    "-1 | A:1 B:10\n",
    " 1 | A:-1 B:12\n",
    "</pre>\n",
    "\n",
    "* Можно использовать текст без обработки\n",
    "\n",
    "<pre>\n",
    "-1 | so i find myself porting a game that was originally written\n",
    " 1 | i ve been using tortoisesvn in a windows environment for quite some time\n",
    "</pre>"
   ]
  },
  {
   "cell_type": "markdown",
   "metadata": {
    "deletable": true,
    "editable": true,
    "slideshow": {
     "slide_type": "subslide"
    }
   },
   "source": [
    "## Попробуем решить ```windows vs linux```\n",
    "\n",
    "Для этого сначала сконвертируем данные в формат для ```vw```"
   ]
  },
  {
   "cell_type": "code",
   "execution_count": 171,
   "metadata": {
    "collapsed": false,
    "deletable": true,
    "editable": true
   },
   "outputs": [
    {
     "name": "stdout",
     "output_type": "stream",
     "text": [
      "1 | i have a bat file shown below echo off for f d\r\n",
      "1 | i need a way to determine whether the computer\r\n",
      "-1 | my c application uses 3rd libraries which do \r\n",
      "-1 | currently i m trying to install php 5 3 0 on \r\n",
      "1 | i how to get the windowproc for a form in c fo\r\n"
     ]
    }
   ],
   "source": [
    "texts = pd.read_csv('windows_vs_linux.10k.tsv', sep='\\t', header=None)\n",
    "texts[1].replace({0: '-1 ', 1: '1 '}, inplace=True)\n",
    "\n",
    "train_texts, test_texts = train_test_split(texts)\n",
    "\n",
    "\n",
    "train_texts[[1, 0]].to_csv('win_vs_lin.train.vw', sep='|', header=None, index=False)\n",
    "test_texts[[1, 0]].to_csv('win_vs_lin.test.vw', sep='|', header=None, index=False)\n",
    "\n",
    "!head -n 5 win_vs_lin.train.vw | cut -c 1-50"
   ]
  },
  {
   "cell_type": "markdown",
   "metadata": {
    "deletable": true,
    "editable": true,
    "slideshow": {
     "slide_type": "subslide"
    }
   },
   "source": [
    "## Обучение"
   ]
  },
  {
   "cell_type": "code",
   "execution_count": 172,
   "metadata": {
    "collapsed": false,
    "deletable": true,
    "editable": true,
    "slideshow": {
     "slide_type": "-"
    }
   },
   "outputs": [
    {
     "name": "stdout",
     "output_type": "stream",
     "text": [
      "final_regressor = model.vw\n",
      "Num weight bits = 18\n",
      "learning rate = 0.5\n",
      "initial_t = 0\n",
      "power_t = 0.5\n",
      "decay_learning_rate = 1\n",
      "creating cache_file = win_vs_lin.train.vw.cache\n",
      "Reading datafile = win_vs_lin.train.vw\n",
      "num sources = 1\n",
      "average  since         example        example  current  current  current\n",
      "loss     last          counter         weight    label  predict features\n",
      "0.342860 0.342860        10000        10000.0   1.0000   3.3821       95 h\n",
      "0.301154 0.259449        20000        20000.0   1.0000   4.0657       69 h\n",
      "0.289920 0.267450        30000        30000.0  -1.0000  -4.0597      170 h\n",
      "0.280396 0.251826        40000        40000.0  -1.0000  -2.4205      101 h\n",
      "0.276837 0.262603        50000        50000.0  -1.0000  -7.5515      245 h\n",
      "0.272949 0.253507        60000        60000.0  -1.0000  -5.6810      138 h\n",
      "\n",
      "finished run\n",
      "number of examples per pass = 6750\n",
      "passes used = 10\n",
      "weighted example sum = 67500.000000\n",
      "weighted label sum = 14760.000000\n",
      "average loss = 0.256594 h\n",
      "best constant = 0.444511\n",
      "best constant's loss = 0.669045\n",
      "total feature number = 8086910\n"
     ]
    }
   ],
   "source": [
    "!vw -d win_vs_lin.train.vw --loss_function logistic -P 10000 -f model.vw --passes 100 -c"
   ]
  },
  {
   "cell_type": "markdown",
   "metadata": {
    "deletable": true,
    "editable": true,
    "slideshow": {
     "slide_type": "subslide"
    }
   },
   "source": [
    "## Применение"
   ]
  },
  {
   "cell_type": "code",
   "execution_count": 173,
   "metadata": {
    "collapsed": false,
    "deletable": true,
    "editable": true
   },
   "outputs": [
    {
     "name": "stdout",
     "output_type": "stream",
     "text": [
      "only testing\r\n",
      "predictions = output.csv\r\n",
      "Num weight bits = 18\r\n",
      "learning rate = 0.5\r\n",
      "initial_t = 0\r\n",
      "power_t = 0.5\r\n",
      "using no cache\r\n",
      "Reading datafile = win_vs_lin.test.vw\r\n",
      "num sources = 1\r\n",
      "average  since         example        example  current  current  current\r\n",
      "loss     last          counter         weight    label  predict features\r\n",
      "0.693859 0.693859            1            1.0  -1.0000   0.0014       46\r\n",
      "0.794020 0.894181            2            2.0  -1.0000   0.3683      252\r\n",
      "0.852172 0.910324            4            4.0  -1.0000   1.2895      301\r\n",
      "0.437393 0.022613            8            8.0   1.0000   3.0448       56\r\n",
      "0.280665 0.123937           16           16.0   1.0000   0.7930       51\r\n",
      "0.225321 0.169977           32           32.0   1.0000   2.8181       74\r\n",
      "0.175063 0.124804           64           64.0   1.0000   7.9573       50\r\n",
      "0.182200 0.189338          128          128.0   1.0000  21.6971      223\r\n",
      "0.230316 0.278431          256          256.0  -1.0000  -1.0294      169\r\n",
      "0.217809 0.205302          512          512.0   1.0000   8.7075       91\r\n",
      "0.235335 0.252861         1024         1024.0   1.0000   3.5087       72\r\n",
      "0.233448 0.231560         2048         2048.0   1.0000   3.1936       40\r\n",
      "\r\n",
      "finished run\r\n",
      "number of examples per pass = 2500\r\n",
      "passes used = 1\r\n",
      "weighted example sum = 2500.000000\r\n",
      "weighted label sum = 652.000000\r\n",
      "average loss = 0.238410\r\n",
      "best constant = 0.533933\r\n",
      "best constant's loss = 0.658742\r\n",
      "total feature number = 292019\r\n"
     ]
    }
   ],
   "source": [
    "!vw -i model.vw -t -p output.csv win_vs_lin.test.vw --loss_function logistic"
   ]
  },
  {
   "cell_type": "markdown",
   "metadata": {
    "deletable": true,
    "editable": true,
    "slideshow": {
     "slide_type": "subslide"
    }
   },
   "source": [
    "## Результат"
   ]
  },
  {
   "cell_type": "code",
   "execution_count": 174,
   "metadata": {
    "collapsed": false,
    "deletable": true,
    "editable": true,
    "slideshow": {
     "slide_type": "-"
    }
   },
   "outputs": [
    {
     "data": {
      "text/plain": [
       "0.96415249302305139"
      ]
     },
     "execution_count": 174,
     "metadata": {},
     "output_type": "execute_result"
    }
   ],
   "source": [
    "y_hat = pd.read_csv('output.csv', header=None)\n",
    "roc_auc_score(test_texts[1].replace({'-1 ': 0, '1 ': 1}), y_hat[0])"
   ]
  },
  {
   "cell_type": "markdown",
   "metadata": {
    "deletable": true,
    "editable": true,
    "slideshow": {
     "slide_type": "subslide"
    }
   },
   "source": [
    "## Функции потерь\n",
    "\n",
    "Задаются через опцию ```--loss_function```\n",
    "\n",
    "<img src=\"files/images/loss.png\" width=\"800\">"
   ]
  },
  {
   "cell_type": "markdown",
   "metadata": {
    "deletable": true,
    "editable": true,
    "slideshow": {
     "slide_type": "subslide"
    }
   },
   "source": [
    "## Регуляризация \n",
    "\n",
    "Задаётся через два флага\n",
    "* ```--l1```\n",
    "* ```--l2```"
   ]
  },
  {
   "cell_type": "markdown",
   "metadata": {
    "deletable": true,
    "editable": true,
    "slideshow": {
     "slide_type": "subslide"
    }
   },
   "source": [
    "## Многоклассовая классификация\n",
    "\n",
    "Включается с помощью флага ```--multilabel_oaa n```, где $n$ число классов"
   ]
  },
  {
   "cell_type": "code",
   "execution_count": 12,
   "metadata": {
    "collapsed": false,
    "deletable": true,
    "editable": true
   },
   "outputs": [
    {
     "name": "stdout",
     "output_type": "stream",
     "text": [
      "3 | i want to use a track bar to change a form s opacity this is my code decimal\r\n",
      "6 | i have an absolutely positioned div containing several children one of which\r\n",
      "0,3 | given a datetime representing a person s birthday how do i calculate their\r\n",
      "3 | given a specific datetime value how do i display relative time like 2 hours \r\n",
      "6,8 | is there any standard way for a web server to be able to determine a user \r\n"
     ]
    }
   ],
   "source": [
    "texts = pd.read_csv('multi_tag.10k.tsv', header=None, sep='\\t')\n",
    "texts.columns = ['text', 'tags']\n",
    "classes = np.arange(21)\n",
    "texts['tags'] = map(lambda row: ','.join(map(str, classes[row.astype('bool')])) + ' ', y)\n",
    "texts[['tags', 'text']].to_csv('multi_tag.vw' , sep='|', header=None, index=False)\n",
    "\n",
    "!head -n 5 multi_tag.vw | cut -c 1-80"
   ]
  },
  {
   "cell_type": "markdown",
   "metadata": {
    "deletable": true,
    "editable": true,
    "slideshow": {
     "slide_type": "subslide"
    }
   },
   "source": [
    "## Обучение"
   ]
  },
  {
   "cell_type": "code",
   "execution_count": 13,
   "metadata": {
    "collapsed": false,
    "deletable": true,
    "editable": true
   },
   "outputs": [
    {
     "name": "stdout",
     "output_type": "stream",
     "text": [
      "final_regressor = model.vw\n",
      "Num weight bits = 18\n",
      "learning rate = 0.5\n",
      "initial_t = 0\n",
      "power_t = 0.5\n",
      "decay_learning_rate = 1\n",
      "using cache_file = multi_tag.vw.cache\n",
      "ignoring text input in favor of cache input\n",
      "num sources = 1\n",
      "average  since         example        example  current  current  current\n",
      "loss     last          counter         weight    label  predict features\n",
      "1.000000 1.000000            1            1.0        3                66\n",
      "1.000000 1.000000            2            2.0        6        3       99\n",
      "0.750000 0.500000            4            4.0        3                22\n",
      "0.750000 0.750000            8            8.0        5        3        9\n",
      "0.687500 0.625000           16           16.0        3                56\n",
      "0.625000 0.562500           32           32.0       12               146\n",
      "0.671875 0.718750           64           64.0       14               333\n",
      "0.679688 0.687500          128          128.0       11       13       44\n",
      "0.742188 0.804688          256          256.0       11                56\n",
      "0.750000 0.757812          512          512.0       11       11       79\n",
      "0.745117 0.740234         1024         1024.0       11       11       92\n",
      "0.753906 0.762695         2048         2048.0       11       11      261\n",
      "0.735840 0.717773         4096         4096.0  unknown                35\n",
      "0.726807 0.717773         8192         8192.0       19       11       71\n",
      "0.729670 0.729670        16384        16384.0  unknown               185 h\n",
      "0.712637 0.695604        32768        32768.0  unknown               157 h\n",
      "0.694410 0.676188        65536        65536.0       12                35 h\n",
      "\n",
      "finished run\n",
      "number of examples per pass = 9000\n",
      "passes used = 10\n",
      "weighted example sum = 90000.000000\n",
      "weighted label sum = 0.000000\n",
      "average loss = 0.674000 h\n",
      "total feature number = 9989130\n"
     ]
    }
   ],
   "source": [
    "!vw -d multi_tag.vw --loss_function logistic -f model.vw --multilabel_oaa 21 --passes 10 -c"
   ]
  },
  {
   "cell_type": "markdown",
   "metadata": {},
   "source": [
    "## Предсказание\n",
    "\n",
    "Для простоты получим ответы на ```train```"
   ]
  },
  {
   "cell_type": "code",
   "execution_count": 25,
   "metadata": {
    "collapsed": false
   },
   "outputs": [
    {
     "name": "stdout",
     "output_type": "stream",
     "text": [
      "predictions = output.csv\n",
      "Num weight bits = 18\n",
      "learning rate = 0.5\n",
      "initial_t = 0\n",
      "power_t = 0.5\n",
      "using no cache\n",
      "Reading datafile = multi_tag.vw\n",
      "num sources = 1\n",
      "average  since         example        example  current  current  current\n",
      "loss     last          counter         weight    label  predict features\n",
      "0.000000 0.000000            1            1.0        3        3       66\n",
      "0.000000 0.000000            2            2.0        6        6       99\n",
      "0.750000 1.500000            4            4.0        3                22\n",
      "0.750000 0.750000            8            8.0        5                 9\n",
      "1.000000 1.250000           16           16.0        6        6      157\n",
      "1.000000 1.000000           32           32.0       16  3 15 16      225\n",
      "0.953125 0.906250           64           64.0       11       11      181\n",
      "0.890625 0.828125          128          128.0        9        9       98\n",
      "0.800781 0.710938          256          256.0       11       11       38\n",
      "0.755859 0.710938          512          512.0        6        6      311\n",
      "0.684570 0.613281         1024         1024.0       14               188\n",
      "0.671875 0.659180         2048         2048.0       11                43\n",
      "0.639404 0.606934         4096         4096.0       11               166\n",
      "0.633423 0.627441         8192         8192.0        4        4       63\n",
      "\n",
      "finished run\n",
      "number of examples per pass = 10000\n",
      "passes used = 1\n",
      "weighted example sum = 10000.000000\n",
      "weighted label sum = 0.000000\n",
      "average loss = 0.631000\n",
      "total feature number = 1108776\n"
     ]
    }
   ],
   "source": [
    "!vw -i model.vw -p output.csv multi_tag.vw --loss_function logistic"
   ]
  },
  {
   "cell_type": "markdown",
   "metadata": {
    "deletable": true,
    "editable": true,
    "slideshow": {
     "slide_type": "slide"
    }
   },
   "source": [
    "## Конкурсы по анализу данных\n",
    "\n",
    "* Организаторы конкурсов выдают данные\n",
    "    * Обучающую выборку с ответами\n",
    "    * Тестовую выборку без ответов\n",
    "* Каждый участник создаёт модель локально\n",
    "* Нет никаких ограничений на модель\n",
    "* Сравниваются только результаты на тестовой выборке"
   ]
  },
  {
   "cell_type": "markdown",
   "metadata": {
    "deletable": true,
    "editable": true,
    "slideshow": {
     "slide_type": "subslide"
    }
   },
   "source": [
    "## Kaggle-in-class\n",
    "\n",
    "* Платформа для учебных соревнований\n",
    "* До окончания соревнования виден только публичный скорборд, который считается по меньшей части тестовой выборки\n",
    "* После окончания соревнования в приватный скорборд берутся только несколько попыток из участвующих в публичном "
   ]
  },
  {
   "cell_type": "markdown",
   "metadata": {
    "deletable": true,
    "editable": true,
    "slideshow": {
     "slide_type": "subslide"
    }
   },
   "source": [
    "## Конкурс\n",
    "\n",
    "* Вам дана информация о документах и их тегах\n",
    "* Всего 30000 документов и 98 тегов\n",
    "* Для каждой пары документ-терм известен её вес\n",
    "* Метрика такая же как в примере со stackoverflow — __Mean F1__"
   ]
  },
  {
   "cell_type": "markdown",
   "metadata": {
    "deletable": true,
    "editable": true,
    "slideshow": {
     "slide_type": "subslide"
    }
   },
   "source": [
    "## Безлайны\n",
    "\n",
    "* Мы выдаём безлайн, с помощью которого можно воспроизвести базовое решение\n",
    "* Также есть более сложный безлайн — medium baseline, код от которого не выдаётся"
   ]
  },
  {
   "cell_type": "markdown",
   "metadata": {
    "deletable": true,
    "editable": true,
    "slideshow": {
     "slide_type": "subslide"
    }
   },
   "source": [
    "## Оценивание \n",
    "\n",
    "* +5 баллов — за получение решения, которое лучше чем medium baseline до наступления промежуточного дедлайна\n",
    "* +30 баллов — за первое место\n",
    "* +25 баллов — за второе место\n",
    "* +20 баллов — за третье место"
   ]
  },
  {
   "cell_type": "markdown",
   "metadata": {
    "deletable": true,
    "editable": true,
    "slideshow": {
     "slide_type": "subslide"
    }
   },
   "source": [
    "## Правила игры\n",
    "\n",
    "* 5 попыток в день\n",
    "* Решать задания необходимо в одиночку\n",
    "* Можно выбрать только две попытки в конце конкурса\n",
    "* Дедлайн по конкурсу — 17 апреля в 9:00\n",
    "* Промежуточный дедлайн — 3 апреля в 9:00\n",
    "* Запрещается использование внешних наборов данных, не предоставленных на соревновании"
   ]
  }
 ],
 "metadata": {
  "celltoolbar": "Slideshow",
  "kernelspec": {
   "display_name": "Python 2",
   "language": "python",
   "name": "python2"
  },
  "language_info": {
   "codemirror_mode": {
    "name": "ipython",
    "version": 2
   },
   "file_extension": ".py",
   "mimetype": "text/x-python",
   "name": "python",
   "nbconvert_exporter": "python",
   "pygments_lexer": "ipython2",
   "version": "2.7.13"
  }
 },
 "nbformat": 4,
 "nbformat_minor": 2
}
